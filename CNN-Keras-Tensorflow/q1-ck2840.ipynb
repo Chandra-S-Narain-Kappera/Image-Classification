{
 "cells": [
  {
   "cell_type": "markdown",
   "metadata": {},
   "source": [
    "### Importing required stuff"
   ]
  },
  {
   "cell_type": "code",
   "execution_count": 1,
   "metadata": {
    "collapsed": true
   },
   "outputs": [],
   "source": [
    "import time\n",
    "import math\n",
    "import random\n",
    "\n",
    "import pandas as pd\n",
    "import numpy as np\n",
    "import matplotlib.pyplot as plt\n",
    "import tensorflow as tf\n",
    "\n",
    "from datetime import timedelta\n",
    "\n",
    "import scipy.misc\n",
    "import glob\n",
    "import sys\n",
    "\n",
    "%matplotlib inline"
   ]
  },
  {
   "cell_type": "markdown",
   "metadata": {},
   "source": [
    "### Helper files to load data"
   ]
  },
  {
   "cell_type": "code",
   "execution_count": 2,
   "metadata": {
    "collapsed": true
   },
   "outputs": [],
   "source": [
    "# Helper functions, DO NOT modify this\n",
    "\n",
    "def get_img_array(path):\n",
    "    \"\"\"\n",
    "    Given path of image, returns it's numpy array\n",
    "    \"\"\"\n",
    "    return scipy.misc.imread(path)\n",
    "\n",
    "def get_files(folder):\n",
    "    \"\"\"\n",
    "    Given path to folder, returns list of files in it\n",
    "    \"\"\"\n",
    "    filenames = [file for file in glob.glob(folder+'*/*')]\n",
    "    filenames.sort()\n",
    "    return filenames\n",
    "\n",
    "def get_label(filepath, label2id):\n",
    "    \"\"\"\n",
    "    Files are assumed to be labeled as: /path/to/file/999_frog.png\n",
    "    Returns label for a filepath\n",
    "    \"\"\"\n",
    "    tokens = filepath.split('/')\n",
    "    label = tokens[-1].split('_')[1][:-4]\n",
    "    if label in label2id:\n",
    "        return label2id[label]\n",
    "    else:\n",
    "        sys.exit(\"Invalid label: \" + label)"
   ]
  },
  {
   "cell_type": "code",
   "execution_count": 3,
   "metadata": {
    "collapsed": true
   },
   "outputs": [],
   "source": [
    "# Functions to load data, DO NOT change these\n",
    "\n",
    "def get_labels(folder, label2id):\n",
    "    \"\"\"\n",
    "    Returns vector of labels extracted from filenames of all files in folder\n",
    "    :param folder: path to data folder\n",
    "    :param label2id: mapping of text labels to numeric ids. (Eg: automobile -> 0)\n",
    "    \"\"\"\n",
    "    files = get_files(folder)\n",
    "    y = []\n",
    "    for f in files:\n",
    "        y.append(get_label(f,label2id))\n",
    "    return np.array(y)\n",
    "\n",
    "def one_hot(y, num_classes=10):\n",
    "    \"\"\"\n",
    "    Converts each label index in y to vector with one_hot encoding\n",
    "    \"\"\"\n",
    "    y_one_hot = np.zeros((num_classes, y.shape[0]))\n",
    "    y_one_hot[y, range(y.shape[0])] = 1\n",
    "    return y_one_hot\n",
    "\n",
    "def get_label_mapping(label_file):\n",
    "    \"\"\"\n",
    "    Returns mappings of label to index and index to label\n",
    "    The input file has list of labels, each on a separate line.\n",
    "    \"\"\"\n",
    "    with open(label_file, 'r') as f:\n",
    "        id2label = f.readlines()\n",
    "        id2label = [l.strip() for l in id2label]\n",
    "    label2id = {}\n",
    "    count = 0\n",
    "    for label in id2label:\n",
    "        label2id[label] = count\n",
    "        count += 1\n",
    "    return id2label, label2id\n",
    "\n",
    "def get_images(folder):\n",
    "    \"\"\"\n",
    "    returns numpy array of all samples in folder\n",
    "    each column is a sample resized to 30x30 and flattened\n",
    "    \"\"\"\n",
    "    files = get_files(folder)\n",
    "    images = []\n",
    "    count = 0\n",
    "    \n",
    "    for f in files:\n",
    "        count += 1\n",
    "        if count % 10000 == 0:\n",
    "            print(\"Loaded {}/{}\".format(count,len(files)))\n",
    "        img_arr = get_img_array(f)\n",
    "        img_arr = img_arr.flatten() / 255.0\n",
    "        images.append(img_arr)\n",
    "    X = np.column_stack(images)\n",
    "\n",
    "    return X\n",
    "\n",
    "def get_train_data(data_root_path):\n",
    "    \"\"\"\n",
    "    Return X and y\n",
    "    \"\"\"\n",
    "    train_data_path = data_root_path + 'train'\n",
    "    id2label, label2id = get_label_mapping(data_root_path+'labels.txt')\n",
    "    print(label2id)\n",
    "    X = get_images(train_data_path)\n",
    "    y = get_labels(train_data_path, label2id)\n",
    "    return X, y\n",
    "\n",
    "def save_predictions(filename, y):\n",
    "    \"\"\"\n",
    "    Dumps y into .npy file\n",
    "    \"\"\"\n",
    "    np.save(filename, y)"
   ]
  },
  {
   "cell_type": "markdown",
   "metadata": {},
   "source": [
    "### Load test data from using the helper code from HW1"
   ]
  },
  {
   "cell_type": "code",
   "execution_count": 10,
   "metadata": {
    "collapsed": false
   },
   "outputs": [
    {
     "name": "stdout",
     "output_type": "stream",
     "text": [
      "{'airplane': 0, 'automobile': 1, 'bird': 2, 'cat': 3, 'deer': 4, 'dog': 5, 'frog': 6, 'horse': 7, 'ship': 8, 'truck': 9}\n",
      "Loaded 10000/50000\n",
      "Loaded 20000/50000\n",
      "Loaded 30000/50000\n",
      "Loaded 40000/50000\n",
      "Loaded 50000/50000\n",
      "Loaded 10000/10000\n"
     ]
    }
   ],
   "source": [
    "# Load the data\n",
    "data_root_path = 'cifar10-hw2/'\n",
    "X_train, Y_train = get_train_data(data_root_path) # this may take a few minutes\n",
    "X_test_format = get_images(data_root_path + 'test')\n",
    "X_test_format = X_test_format.T\n",
    "#print('Data loading done')"
   ]
  },
  {
   "cell_type": "code",
   "execution_count": 11,
   "metadata": {
    "collapsed": true
   },
   "outputs": [],
   "source": [
    "X_train = X_train.T\n",
    "Y_train = Y_train.T"
   ]
  },
  {
   "cell_type": "markdown",
   "metadata": {},
   "source": [
    "### Load all the data"
   ]
  },
  {
   "cell_type": "code",
   "execution_count": 12,
   "metadata": {
    "collapsed": false,
    "scrolled": true
   },
   "outputs": [
    {
     "name": "stdout",
     "output_type": "stream",
     "text": [
      "b'training batch 1 of 5'\n",
      "b'training batch 2 of 5'\n",
      "b'training batch 3 of 5'\n",
      "b'training batch 4 of 5'\n",
      "b'training batch 5 of 5'\n",
      "b'testing batch 1 of 1'\n",
      "(50000, 3072) (50000,) (10000, 3072) (10000,)\n"
     ]
    }
   ],
   "source": [
    "def unpickle(file):\n",
    "    import pickle\n",
    "    with open(file, 'rb') as fo:\n",
    "        data_dict = pickle.load(fo, encoding='bytes')\n",
    "    return data_dict\n",
    "\n",
    "path = 'cifar-10-batches-py'\n",
    "file = []\n",
    "file.append('data_batch_1')\n",
    "file.append('data_batch_2')\n",
    "file.append('data_batch_3')\n",
    "file.append('data_batch_4')\n",
    "file.append('data_batch_5')\n",
    "file.append('test_batch')\n",
    "\n",
    "X_train = None\n",
    "Y_train = None\n",
    "X_test = None\n",
    "Y_test = None\n",
    "\n",
    "for i in range(6):\n",
    "    fname = path+'/'+file[i]\n",
    "    data_dict = unpickle(fname)\n",
    "    \n",
    "    _X = np.array(data_dict[b'data'], dtype=float) / 255.0\n",
    "    _X = _X.reshape([-1, 3, 32, 32])\n",
    "    _X = _X.transpose([0, 2, 3, 1])\n",
    "    _X = _X.reshape(-1, 32*32*3)\n",
    "    _Y = data_dict[b'labels']\n",
    "\n",
    "    if X_train is None:\n",
    "        X_train = _X\n",
    "        Y_train = _Y\n",
    "    elif i != 5:\n",
    "        X_train = np.concatenate((X_train, _X), axis=0)\n",
    "        Y_train = np.concatenate((Y_train, _Y), axis=0)\n",
    "    else:\n",
    "        X_test = _X\n",
    "        Y_test = np.array(_Y)\n",
    "    print(data_dict[b'batch_label'])\n",
    "\n",
    "# confirming the output\n",
    "print(X_train.shape, Y_train.shape, X_test.shape, Y_test.shape)\n",
    "    \n",
    "    "
   ]
  },
  {
   "cell_type": "markdown",
   "metadata": {},
   "source": [
    "### Defining Hyperparameters"
   ]
  },
  {
   "cell_type": "code",
   "execution_count": 13,
   "metadata": {
    "collapsed": true
   },
   "outputs": [],
   "source": [
    "# Convolutional Layer 1.\n",
    "filter_size1 = 3 \n",
    "num_filters1 = 64\n",
    "\n",
    "# Convolutional Layer 2.\n",
    "filter_size2 = 3\n",
    "num_filters2 = 64\n",
    "\n",
    "# Fully-connected layer.\n",
    "fc_1 = 256                 # Number of neurons in fully-connected layer.\n",
    "fc_2 = 128                 # Number of neurons in fc layer\n",
    "\n",
    "# Number of color channels for the images: 1 channel for gray-scale.\n",
    "num_channels = 3\n",
    "\n",
    "# image dimensions (only squares for now)\n",
    "img_size = 32\n",
    "\n",
    "# Size of image when flattened to a single dimension\n",
    "img_size_flat = img_size * img_size * num_channels\n",
    "\n",
    "# Tuple with height and width of images used to reshape arrays.\n",
    "img_shape = (img_size, img_size)\n",
    "\n",
    "# class info\n",
    "classes = ['airplane','automobile','bird','cat','deer','dog','frog','horse','ship','truck']\n",
    "num_classes = len(classes)\n",
    "\n",
    "# batch size\n",
    "batch_size = 64\n",
    "\n",
    "# validation split\n",
    "validation_size = .16\n",
    "\n",
    "# learning rate \n",
    "learning_rate = 0.001\n",
    "\n",
    "# beta\n",
    "beta = 0.01\n",
    "\n",
    "# log directory\n",
    "import os\n",
    "log_dir = os.getcwd()\n",
    "\n",
    "# how long to wait after validation loss stops improving before terminating training\n",
    "early_stopping = None  # use None if you don't want to implement early stoping"
   ]
  },
  {
   "cell_type": "markdown",
   "metadata": {},
   "source": [
    "### Helper-function for plotting images\n",
    "Function used to plot 9 images in a 3x3 grid (or fewer, depending on how many images are passed), and writing the true and predicted classes below each image."
   ]
  },
  {
   "cell_type": "code",
   "execution_count": 14,
   "metadata": {
    "collapsed": true
   },
   "outputs": [],
   "source": [
    "def plot_images(images, cls_true, cls_pred=None):\n",
    "    \n",
    "    if len(images) == 0:\n",
    "        print(\"no images to show\")\n",
    "        return \n",
    "    else:\n",
    "        random_indices = random.sample(range(len(images)), min(len(images), 9))\n",
    "        \n",
    "    print(images.shape)   \n",
    "    images, cls_true  = zip(*[(images[i], cls_true[i]) for i in random_indices])\n",
    "    \n",
    "    # Create figure with 3x3 sub-plots.\n",
    "    fig, axes = plt.subplots(3, 3)\n",
    "    fig.subplots_adjust(hspace=0.3, wspace=0.3)\n",
    "\n",
    "    for i, ax in enumerate(axes.flat):\n",
    "        # Plot image.\n",
    "        ax.imshow(images[i].reshape(img_size, img_size, num_channels))\n",
    "\n",
    "        # Show true and predicted classes.\n",
    "        if cls_pred is None:\n",
    "            xlabel = \"True: {0}\".format(classes[cls_true[i]])\n",
    "        else:\n",
    "            xlabel = \"True: {0}, Pred: {1}\".format(cls_true[i], cls_pred[i])\n",
    "\n",
    "        # Show the classes as the label on the x-axis.\n",
    "        ax.set_xlabel(xlabel)\n",
    "        \n",
    "        # Remove ticks from the plot.\n",
    "        ax.set_xticks([])\n",
    "        ax.set_yticks([])\n",
    "    \n",
    "    # Ensure the plot is shown correctly with multiple plots\n",
    "    # in a single Notebook cell.\n",
    "    plt.show()"
   ]
  },
  {
   "cell_type": "markdown",
   "metadata": {},
   "source": [
    "### Plot a few images to see if data is correct"
   ]
  },
  {
   "cell_type": "code",
   "execution_count": 15,
   "metadata": {
    "collapsed": false,
    "scrolled": true
   },
   "outputs": [
    {
     "name": "stdout",
     "output_type": "stream",
     "text": [
      "(50000, 3072)\n"
     ]
    },
    {
     "data": {
      "image/png": "[encoded data removed]",
      "text/plain": [
       "<matplotlib.figure.Figure at 0x7fdc4b2a5550>"
      ]
     },
     "metadata": {},
     "output_type": "display_data"
    }
   ],
   "source": [
    "# Plot the images and labels using our helper-function above.\n",
    "plot_images(X_train, Y_train)"
   ]
  },
  {
   "cell_type": "markdown",
   "metadata": {},
   "source": [
    "### Normalize"
   ]
  },
  {
   "cell_type": "code",
   "execution_count": 12,
   "metadata": {
    "collapsed": true
   },
   "outputs": [],
   "source": [
    "mean = np.mean(X_train, axis = 0)\n",
    "stdDev = np.std(X_train, axis = 0)\n",
    "\n",
    "X_train -= mean\n",
    "X_train /= stdDev\n",
    "\n",
    "X_test -= mean\n",
    "X_test /= stdDev\n",
    "\n",
    "X_test_format -= mean\n",
    "X_test_format /= stdDev"
   ]
  },
  {
   "cell_type": "markdown",
   "metadata": {},
   "source": [
    "### Tensorflow graph"
   ]
  },
  {
   "cell_type": "markdown",
   "metadata": {},
   "source": [
    "### Regularizer"
   ]
  },
  {
   "cell_type": "code",
   "execution_count": 16,
   "metadata": {
    "collapsed": true
   },
   "outputs": [],
   "source": [
    "regularizer = tf.contrib.layers.l2_regularizer(scale=0.1)"
   ]
  },
  {
   "cell_type": "markdown",
   "metadata": {},
   "source": [
    "### Weights and Bias"
   ]
  },
  {
   "cell_type": "code",
   "execution_count": 17,
   "metadata": {
    "collapsed": true
   },
   "outputs": [],
   "source": [
    "def new_weights(shape):\n",
    "    return tf.get_variable(name='weights',shape=shape,regularizer=regularizer)\n",
    "\n",
    "def new_biases(length):\n",
    "    return tf.Variable(tf.constant(0.05, shape=[length]))"
   ]
  },
  {
   "cell_type": "markdown",
   "metadata": {},
   "source": [
    "### Batch Norm"
   ]
  },
  {
   "cell_type": "code",
   "execution_count": 18,
   "metadata": {
    "collapsed": true
   },
   "outputs": [],
   "source": [
    "def batch_norm(x, n_out, phase_train):\n",
    "    \"\"\"\n",
    "    Batch normalization on convolutional maps.\n",
    "    Ref.: http://stackoverflow.com/questions/33949786/how-could-i-use-batch-normalization-in-tensorflow\n",
    "    Args:\n",
    "        x:           Tensor, 4D BHWD input maps\n",
    "        n_out:       integer, depth of input maps\n",
    "        phase_train: boolean tf.Varialbe, true indicates training phase\n",
    "        scope:       string, variable scope\n",
    "    Return:\n",
    "        normed:      batch-normalized maps\n",
    "    \"\"\"\n",
    "    with tf.variable_scope('batch_norm'):\n",
    "        beta = tf.Variable(tf.constant(0.0, shape=[n_out]),\n",
    "                                     name='beta', trainable=True)\n",
    "        gamma = tf.Variable(tf.constant(1.0, shape=[n_out]),\n",
    "                                      name='gamma', trainable=True)\n",
    "        batch_mean, batch_var = tf.nn.moments(x, [0,1,2], name='moments')\n",
    "        ema = tf.train.ExponentialMovingAverage(decay=0.5)\n",
    "\n",
    "        def mean_var_with_update():\n",
    "            ema_apply_op = ema.apply([batch_mean, batch_var])\n",
    "            with tf.control_dependencies([ema_apply_op]):\n",
    "                return tf.identity(batch_mean), tf.identity(batch_var)\n",
    "            \n",
    "        mean, var = tf.cond(tf.equal(phase_train,1),\n",
    "                            mean_var_with_update,\n",
    "                            lambda: (ema.average(batch_mean), ema.average(batch_var)))\n",
    "        normed = tf.nn.batch_normalization(x, mean, var, beta, gamma, 1e-3)\n",
    "    return normed"
   ]
  },
  {
   "cell_type": "markdown",
   "metadata": {},
   "source": [
    "### Helper function for summaries:"
   ]
  },
  {
   "cell_type": "code",
   "execution_count": 19,
   "metadata": {
    "collapsed": true
   },
   "outputs": [],
   "source": [
    "def variable_summaries(var):\n",
    "    \"\"\"Attach a lot of summaries to a Tensor (for TensorBoard visualization).\"\"\"\n",
    "    with tf.name_scope('summaries'):\n",
    "        mean = tf.reduce_mean(var)\n",
    "        tf.summary.scalar('mean', mean)\n",
    "        with tf.name_scope('stddev'):\n",
    "            stddev = tf.sqrt(tf.reduce_mean(tf.square(var - mean)))\n",
    "        tf.summary.scalar('stddev', stddev)\n",
    "        tf.summary.scalar('max', tf.reduce_max(var))\n",
    "        tf.summary.scalar('min', tf.reduce_min(var))\n",
    "        tf.summary.histogram('histogram', var)"
   ]
  },
  {
   "cell_type": "markdown",
   "metadata": {},
   "source": [
    "### Convolutional Layer"
   ]
  },
  {
   "cell_type": "code",
   "execution_count": 20,
   "metadata": {
    "collapsed": true
   },
   "outputs": [],
   "source": [
    "def new_conv_layer(input,              # The previous layer.\n",
    "                   num_input_channels, # Num. channels in prev. layer.\n",
    "                   filter_size,        # Width and height of each filter.\n",
    "                   num_filters,        # Number of filters.\n",
    "                   use_pooling=True, normalize=True, phase=1, batch_normalization =False):  # Use 2x2 max-pooling.\n",
    "\n",
    "    # Shape of the filter-weights for the convolution.\n",
    "    # This format is determined by the TensorFlow API.\n",
    "    shape = [filter_size, filter_size, num_input_channels, num_filters]\n",
    "\n",
    "    # Create new weights aka. filters with the given shape.\n",
    "    with tf.variable_scope('weights'):\n",
    "        weights = new_weights(shape=shape)\n",
    "        #tf.add_to_collection(tf.GraphKeys.REGULARIZATION_LOSSES, weights)\n",
    "        variable_summaries(weights)\n",
    "\n",
    "\n",
    "    \n",
    "    # Create new biases, one for each filter.\n",
    "    with tf.variable_scope('biases'):\n",
    "        biases = new_biases(length=num_filters)\n",
    "        variable_summaries(biases)\n",
    "\n",
    "    \n",
    "    \n",
    "    with tf.variable_scope('convolution_layer'):\n",
    "        layer = tf.nn.conv2d(input=input,\n",
    "                             filter=weights,\n",
    "                             strides=[1, 1, 1, 1],\n",
    "                             padding='SAME')\n",
    "        # Add the biases to the results of the convolution.\n",
    "        # A bias-value is added to each filter-channel.\n",
    "        layer += biases\n",
    "\n",
    "    #layer = tf.layers.batch_normalization(layer, \n",
    "    #                                      center=True, scale=True, \n",
    "    #                                      training=phase)\n",
    "    \n",
    "    #layer = tf.contrib.layers.batch_norm(layer,is_training=phase)\n",
    "    # Use pooling to down-sample the image resolution?\n",
    "    \n",
    "     # Adding batch_norm\n",
    "    if batch_normalization == True:\n",
    "        layer = batch_norm(layer,num_filters, phase)\n",
    "    \n",
    "    with tf.variable_scope('Max-Pooling'):\n",
    "        if use_pooling:\n",
    "            # This is 2x2 max-pooling, which means that we\n",
    "            # consider 2x2 windows and select the largest value\n",
    "            # in each window. Then we move 2 pixels to the next window.\n",
    "            layer = tf.nn.max_pool(value=layer,\n",
    "                                   ksize=[1, 2, 2, 1],\n",
    "                                   strides=[1, 2, 2, 1],\n",
    "                                   padding='SAME')\n",
    "    with tf.variable_scope('ReLU'):\n",
    "        # Rectified Linear Unit (ReLU).\n",
    "        # It calculates max(x, 0) for each input pixel x.\n",
    "        # This adds some non-linearity to the formula and allows us\n",
    "        # to learn more complicated functions.\n",
    "        layer = tf.nn.relu(layer)\n",
    "\n",
    "   \n",
    "    tf.summary.histogram('activations', layer)\n",
    "    return layer, weights"
   ]
  },
  {
   "cell_type": "markdown",
   "metadata": {},
   "source": [
    "### Flatten Layer"
   ]
  },
  {
   "cell_type": "code",
   "execution_count": 21,
   "metadata": {
    "collapsed": true
   },
   "outputs": [],
   "source": [
    "def flatten_layer(layer):\n",
    "    # Get the shape of the input layer.\n",
    "    layer_shape = layer.get_shape()\n",
    "\n",
    "    # The shape of the input layer is assumed to be:\n",
    "    # layer_shape == [num_images, img_height, img_width, num_channels]\n",
    "\n",
    "    # The number of features is: img_height * img_width * num_channels\n",
    "    # We can use a function from TensorFlow to calculate this.\n",
    "    num_features = layer_shape[1:4].num_elements()\n",
    "    \n",
    "    # Reshape the layer to [num_images, num_features].\n",
    "    # Note that we just set the size of the second dimension\n",
    "    # to num_features and the size of the first dimension to -1\n",
    "    # which means the size in that dimension is calculated\n",
    "    # so the total size of the tensor is unchanged from the reshaping.\n",
    "    layer_flat = tf.reshape(layer, [-1, num_features])\n",
    "\n",
    "    # The shape of the flattened layer is now:\n",
    "    # [num_images, img_height * img_width * num_channels]\n",
    "\n",
    "    # Return both the flattened layer and the number of features.\n",
    "    return layer_flat, num_features"
   ]
  },
  {
   "cell_type": "markdown",
   "metadata": {},
   "source": [
    "### FC Layer"
   ]
  },
  {
   "cell_type": "code",
   "execution_count": 22,
   "metadata": {
    "collapsed": true
   },
   "outputs": [],
   "source": [
    "def new_fc_layer(input,          # The previous layer.\n",
    "                 num_inputs,     # Num. inputs from prev. layer.\n",
    "                 num_outputs,    # Num. outputs.\n",
    "                 use_relu=True): # Use Rectified Linear Unit (ReLU)?\n",
    "\n",
    "    # Create new weights and biases.\n",
    "    with tf.variable_scope('weights'):\n",
    "        weights = new_weights(shape=[num_inputs, num_outputs])\n",
    "    \n",
    "    with tf.variable_scope('biases'):\n",
    "        biases = new_biases(length=num_outputs)\n",
    "\n",
    "    # Calculate the layer as the matrix multiplication of\n",
    "    # the input and weights, and then add the bias-values.\n",
    "    with tf.variable_scope('matmul'):\n",
    "        layer = tf.matmul(input, weights) + biases\n",
    "\n",
    "    # Use ReLU?\n",
    "    if use_relu:\n",
    "        with tf.variable_scope('relu'):\n",
    "            layer = tf.nn.relu(layer)\n",
    "\n",
    "    return layer, weights"
   ]
  },
  {
   "cell_type": "markdown",
   "metadata": {},
   "source": [
    "### Placeholder variables"
   ]
  },
  {
   "cell_type": "code",
   "execution_count": 23,
   "metadata": {
    "collapsed": true
   },
   "outputs": [],
   "source": [
    "x = tf.placeholder(tf.float32, shape=[None, img_size_flat], name='x')\n",
    "\n",
    "x_image = tf.reshape(x, [-1, img_size, img_size, num_channels])\n",
    "\n",
    "y_true = tf.placeholder(tf.float32, shape=[None, num_classes], name='y_true')\n",
    "\n",
    "y_true_cls = tf.argmax(y_true, axis=1)\n",
    "\n",
    "phase = tf.placeholder(tf.int32, name='phase')\n",
    "\n",
    "keep_prob = tf.placeholder(tf.float32, name='keep_prob')"
   ]
  },
  {
   "cell_type": "markdown",
   "metadata": {},
   "source": [
    "### Convolutional Layers"
   ]
  },
  {
   "cell_type": "code",
   "execution_count": 24,
   "metadata": {
    "collapsed": true
   },
   "outputs": [],
   "source": [
    "with tf.variable_scope('Layer-1'):\n",
    "    layer_conv1, weights_conv1 = \\\n",
    "        new_conv_layer(input=x_image,\n",
    "                       num_input_channels=num_channels,\n",
    "                       filter_size=filter_size1,\n",
    "                       num_filters=num_filters1,\n",
    "                       use_pooling=True, phase=phase, batch_normalization=True)\n",
    "        \n",
    "with tf.variable_scope('Layer-2'):\n",
    "    layer_conv2, weights_conv2 = \\\n",
    "        new_conv_layer(input=layer_conv1,\n",
    "                       num_input_channels=num_filters1,\n",
    "                       filter_size=filter_size2,\n",
    "                       num_filters=num_filters2,\n",
    "                       use_pooling=True, phase=phase)\n",
    "    "
   ]
  },
  {
   "cell_type": "markdown",
   "metadata": {},
   "source": [
    "### Flatten Layer"
   ]
  },
  {
   "cell_type": "code",
   "execution_count": 25,
   "metadata": {
    "collapsed": false
   },
   "outputs": [
    {
     "name": "stdout",
     "output_type": "stream",
     "text": [
      "Tensor(\"Flatten/Reshape:0\", shape=(?, 16384), dtype=float32) 16384\n"
     ]
    }
   ],
   "source": [
    "with tf.variable_scope('Flatten'):\n",
    "    layer_flat, num_features = flatten_layer(layer_conv2)\n",
    "\n",
    "print(layer_flat,num_features)"
   ]
  },
  {
   "cell_type": "markdown",
   "metadata": {},
   "source": [
    "### FC Layers"
   ]
  },
  {
   "cell_type": "code",
   "execution_count": 26,
   "metadata": {
    "collapsed": true
   },
   "outputs": [],
   "source": [
    "with tf.variable_scope('Fully-Connected-1'):\n",
    "    layer_fc1, weights_fc1 = new_fc_layer(input=layer_flat,\n",
    "                             num_inputs=num_features,\n",
    "                             num_outputs=fc_1,\n",
    "                             use_relu=True)\n",
    "    \n",
    "with tf.variable_scope('Fully-Connected-2'):\n",
    "    layer_fc2, weights_fc2 = new_fc_layer(input=layer_fc1,\n",
    "                             num_inputs=fc_1,\n",
    "                             num_outputs=fc_2,\n",
    "                             use_relu=True)\n",
    "    \n",
    "with tf.variable_scope('Fully-connected-3'):\n",
    "    layer_fc3, weights_fc3 = new_fc_layer(input=layer_fc2,\n",
    "                             num_inputs=fc_2,\n",
    "                             num_outputs=num_classes,\n",
    "                             use_relu=False)\n",
    "    \n",
    "#with tf.variable_scope('dropout'):\n",
    "#    layer = tf.nn.dropout(layer_fc2,keep_prob)"
   ]
  },
  {
   "cell_type": "markdown",
   "metadata": {},
   "source": [
    "### Softmax and argmax functions"
   ]
  },
  {
   "cell_type": "code",
   "execution_count": 27,
   "metadata": {
    "collapsed": true
   },
   "outputs": [],
   "source": [
    "with tf.variable_scope('Softmax'):\n",
    "    y_pred = tf.nn.softmax(layer_fc3)\n",
    "    y_pred_cls = tf.argmax(y_pred, axis=1)"
   ]
  },
  {
   "cell_type": "markdown",
   "metadata": {},
   "source": [
    "### Cost-Function:"
   ]
  },
  {
   "cell_type": "code",
   "execution_count": 28,
   "metadata": {
    "collapsed": false
   },
   "outputs": [
    {
     "data": {
      "text/plain": [
       "<tf.Tensor 'Total-Loss:0' shape=() dtype=string>"
      ]
     },
     "execution_count": 28,
     "metadata": {},
     "output_type": "execute_result"
    }
   ],
   "source": [
    "with tf.variable_scope('cross_entropy_loss'):\n",
    "    cross_entropy = tf.nn.softmax_cross_entropy_with_logits(logits=layer_fc3,\n",
    "                                                        labels=y_true)\n",
    "\n",
    "    loss = tf.reduce_mean(cross_entropy)\n",
    "    tf.summary.scalar('cross_entropy', loss)\n",
    "        \n",
    "#with tf.variable_scope('Regularization'):\n",
    "reg_variables = tf.get_collection(tf.GraphKeys.REGULARIZATION_LOSSES)\n",
    "reg_term = tf.contrib.layers.apply_regularization(regularizer, reg_variables)\n",
    "loss += reg_term        \n",
    "cost = loss\n",
    "tf.summary.scalar('Total-Loss', cost)"
   ]
  },
  {
   "cell_type": "markdown",
   "metadata": {},
   "source": [
    "### Using Adam Optimizer"
   ]
  },
  {
   "cell_type": "code",
   "execution_count": 29,
   "metadata": {
    "collapsed": true
   },
   "outputs": [],
   "source": [
    "#with tf.variable_scope('Optimize'):\n",
    "optimizer = tf.train.GradientDescentOptimizer(learning_rate=1e-2).minimize(cost)"
   ]
  },
  {
   "cell_type": "markdown",
   "metadata": {},
   "source": [
    "### Metrics"
   ]
  },
  {
   "cell_type": "code",
   "execution_count": 30,
   "metadata": {
    "collapsed": true
   },
   "outputs": [],
   "source": [
    "with tf.variable_scope('Metrics'):\n",
    "    correct_prediction = tf.equal(y_pred_cls, y_true_cls)\n",
    "    accuracy = tf.reduce_mean(tf.cast(correct_prediction, tf.float32))\n",
    "    tf.summary.scalar('accuracy', accuracy)"
   ]
  },
  {
   "cell_type": "markdown",
   "metadata": {},
   "source": [
    "### Tensorflow Session"
   ]
  },
  {
   "cell_type": "code",
   "execution_count": 31,
   "metadata": {
    "collapsed": true
   },
   "outputs": [],
   "source": [
    "session = tf.Session()\n",
    "session.run(tf.global_variables_initializer())"
   ]
  },
  {
   "cell_type": "markdown",
   "metadata": {},
   "source": [
    "### Summaries"
   ]
  },
  {
   "cell_type": "code",
   "execution_count": 32,
   "metadata": {
    "collapsed": true
   },
   "outputs": [],
   "source": [
    "merged = tf.summary.merge_all()\n",
    "train_writer = tf.summary.FileWriter(log_dir + '/train', session.graph)\n",
    "test_writer = tf.summary.FileWriter(log_dir + '/test')"
   ]
  },
  {
   "cell_type": "code",
   "execution_count": 33,
   "metadata": {
    "collapsed": false
   },
   "outputs": [
    {
     "name": "stdout",
     "output_type": "stream",
     "text": [
      "(50000, 3072)\n"
     ]
    }
   ],
   "source": [
    "print(X_train.shape)"
   ]
  },
  {
   "cell_type": "code",
   "execution_count": 34,
   "metadata": {
    "collapsed": true
   },
   "outputs": [],
   "source": [
    "def one_hot(y, num_classes=10):\n",
    "    \"\"\"\n",
    "    Converts each label index in y to vector with one_hot encoding\n",
    "    \"\"\"\n",
    "    y_one_hot = np.zeros((num_classes, y.shape[0]))\n",
    "    y_one_hot[y, range(y.shape[0])] = 1\n",
    "    return y_one_hot\n",
    "\n",
    "Y_hot = one_hot(Y_train)\n",
    "Y_hot = Y_hot.T\n",
    "# split test and train:\n",
    "x_dev_batch = X_train[0:5000,:]\n",
    "y_dev_batch = Y_hot[0:5000,:]\n",
    "X_train = X_train[5000:,:]\n",
    "Y_hot = Y_hot[5000:,:]"
   ]
  },
  {
   "cell_type": "markdown",
   "metadata": {},
   "source": [
    "### Training"
   ]
  },
  {
   "cell_type": "code",
   "execution_count": 35,
   "metadata": {
    "collapsed": true
   },
   "outputs": [],
   "source": [
    "train_batch_size = batch_size\n",
    "\n",
    "def print_status(epoch, feed_dict_train, feed_dict_validate, train_loss, val_loss, step):\n",
    "    # Calculate the accuracy on the training-set.\n",
    "    summary, acc = session.run([merged,accuracy], feed_dict=feed_dict_train)\n",
    "    train_writer.add_summary(summary, step)\n",
    "    summary, val_acc = session.run([merged,accuracy], feed_dict=feed_dict_validate)\n",
    "    test_writer.add_summary(summary, step)\n",
    "    msg = \"Epoch {0} --- Training Accuracy: {1:>6.1%}, Validation Accuracy: {2:>6.1%}, Training Loss: {3:.3f}, Validation Loss: {4:.3f}\"\n",
    "    print(msg.format(epoch + 1, acc, val_acc, train_loss, val_loss))\n",
    "    \n",
    "# Counter for total number of iterations performed so far.\n",
    "total_iterations = 0\n",
    "batch_id = 1\n",
    "\n",
    "def get_batch(X, Y, batch_size):\n",
    "    \"\"\"\n",
    "    Return minibatch of samples and labels\n",
    "        \n",
    "    :param X, y: samples and corresponding labels\n",
    "    :parma batch_size: minibatch size\n",
    "    :returns: (tuple) X_batch, y_batch\n",
    "    \"\"\"\n",
    "    global batch_id\n",
    "    if batch_id*batch_size >= X.shape[0]:\n",
    "        batch_id = 1\n",
    "        \n",
    "    if batch_id == 1:\n",
    "        permutation = np.random.permutation(X.shape[0])\n",
    "        X = X[permutation,:]\n",
    "        Y = Y[permutation,:]\n",
    "            \n",
    "    lb = batch_size*(batch_id-1)\n",
    "    ub = batch_size*(batch_id)\n",
    "\n",
    "    X = X[lb:ub,:]\n",
    "    Y = Y[lb:ub,:]\n",
    "    batch_id += 1\n",
    "    return X,Y\n",
    "\n",
    "\n",
    "def optimize(num_iterations):\n",
    "    # Ensure we update the global variable rather than a local copy.\n",
    "    global total_iterations\n",
    "\n",
    "    # Start-time used for printing time-usage below.\n",
    "    start_time = time.time()\n",
    "    \n",
    "    best_val_loss = float(\"inf\")\n",
    "    patience = 0\n",
    "\n",
    "    for i in range(total_iterations,\n",
    "                   total_iterations + num_iterations):\n",
    "\n",
    "        # Get a batch of training examples.\n",
    "        # x_batch now holds a batch of images and\n",
    "        # y_true_batch are the true labels for those images\n",
    "        x_batch, y_true_batch = get_batch(X_train,Y_hot, train_batch_size)\n",
    "        \n",
    "        # getting one hot form:\n",
    "        #y_true_batch = one_hot(y_true_batch)\n",
    "        #y_dev_batch = one_hot(y_dev_batch)\n",
    "\n",
    "        # Put the batch into a dict with the proper names\n",
    "        # for placeholder variables in the TensorFlow graph.\n",
    "        feed_dict_train = {x: x_batch,\n",
    "                           y_true: y_true_batch, phase: 1, keep_prob:0.5}\n",
    "        \n",
    "        feed_dict_validate = {x: x_dev_batch,\n",
    "                              y_true: y_dev_batch, phase: 0, keep_prob:1.0}\n",
    "\n",
    "        # Run the optimizer using this batch of training data.\n",
    "        # TensorFlow assigns the variables in feed_dict_train\n",
    "        # to the placeholder variables and then runs the optimizer.\n",
    "        #print(x_batch.shape,y_true_batch.shape)\n",
    "        acc = session.run(optimizer, feed_dict=feed_dict_train)\n",
    "        \n",
    "\n",
    "        # Print status at end of each epoch (defined as full pass through training dataset).\n",
    "        if i % int(X_train.shape[0]/batch_size) == 0 == 0: \n",
    "            train_loss = session.run(cost, feed_dict=feed_dict_train)\n",
    "            val_loss = session.run(cost, feed_dict=feed_dict_validate)\n",
    "            epoch = int(i / int(X_train.shape[0]/batch_size))\n",
    "            print('Iteration:',i)\n",
    "            print_status(epoch, feed_dict_train, feed_dict_validate, train_loss, val_loss, i)\n",
    "            \n",
    "            if early_stopping:    \n",
    "                if val_loss < best_val_loss:\n",
    "                    best_val_loss = val_loss\n",
    "                    patience = 0\n",
    "                else:\n",
    "                    patience += 1\n",
    "\n",
    "                if patience == early_stopping:\n",
    "                    break\n",
    "\n",
    "    # Update the total number of iterations performed.\n",
    "    total_iterations += num_iterations\n",
    "\n",
    "    # Ending time.\n",
    "    end_time = time.time()\n",
    "\n",
    "    # Difference between start and end-times.\n",
    "    time_dif = end_time - start_time\n",
    "\n",
    "    # close the writers\n",
    "    train_writer.close()\n",
    "    test_writer.close()\n",
    "\n",
    "    # Print the time-usage.\n",
    "    print(\"Time elapsed: \" + str(timedelta(seconds=int(round(time_dif)))))"
   ]
  },
  {
   "cell_type": "code",
   "execution_count": 36,
   "metadata": {
    "collapsed": false,
    "scrolled": true
   },
   "outputs": [
    {
     "name": "stdout",
     "output_type": "stream",
     "text": [
      "Iteration: 0\n",
      "Epoch 1 --- Training Accuracy:  20.3%, Validation Accuracy:  10.3%, Training Loss: 37.783, Validation Loss: 38.208\n",
      "Iteration: 703\n",
      "Epoch 2 --- Training Accuracy:  73.4%, Validation Accuracy:  49.1%, Training Loss: 3.554, Validation Loss: 4.081\n",
      "Iteration: 1406\n",
      "Epoch 3 --- Training Accuracy:  64.1%, Validation Accuracy:  59.4%, Training Loss: 1.968, Validation Loss: 2.246\n",
      "Iteration: 2109\n",
      "Epoch 4 --- Training Accuracy:  75.0%, Validation Accuracy:  63.1%, Training Loss: 1.387, Validation Loss: 1.665\n",
      "Iteration: 2812\n",
      "Epoch 5 --- Training Accuracy:  73.4%, Validation Accuracy:  64.6%, Training Loss: 1.140, Validation Loss: 1.452\n",
      "Iteration: 3515\n",
      "Epoch 6 --- Training Accuracy:  76.6%, Validation Accuracy:  66.5%, Training Loss: 1.060, Validation Loss: 1.307\n",
      "Iteration: 4218\n",
      "Epoch 7 --- Training Accuracy:  75.0%, Validation Accuracy:  67.1%, Training Loss: 0.947, Validation Loss: 1.183\n",
      "Iteration: 4921\n",
      "Epoch 8 --- Training Accuracy:  85.9%, Validation Accuracy:  69.6%, Training Loss: 0.788, Validation Loss: 1.135\n",
      "Iteration: 5624\n",
      "Epoch 9 --- Training Accuracy:  93.8%, Validation Accuracy:  69.2%, Training Loss: 0.625, Validation Loss: 1.105\n",
      "Iteration: 6327\n",
      "Epoch 10 --- Training Accuracy:  79.7%, Validation Accuracy:  69.9%, Training Loss: 0.797, Validation Loss: 1.080\n",
      "Iteration: 7030\n",
      "Epoch 11 --- Training Accuracy:  93.8%, Validation Accuracy:  70.7%, Training Loss: 0.533, Validation Loss: 1.056\n",
      "Iteration: 7733\n",
      "Epoch 12 --- Training Accuracy:  98.4%, Validation Accuracy:  70.5%, Training Loss: 0.490, Validation Loss: 1.084\n",
      "Iteration: 8436\n",
      "Epoch 13 --- Training Accuracy: 100.0%, Validation Accuracy:  72.1%, Training Loss: 0.440, Validation Loss: 1.030\n",
      "Iteration: 9139\n",
      "Epoch 14 --- Training Accuracy:  95.3%, Validation Accuracy:  72.5%, Training Loss: 0.457, Validation Loss: 1.055\n",
      "Iteration: 9842\n",
      "Epoch 15 --- Training Accuracy:  95.3%, Validation Accuracy:  72.9%, Training Loss: 0.436, Validation Loss: 1.033\n",
      "Iteration: 10545\n",
      "Epoch 16 --- Training Accuracy:  98.4%, Validation Accuracy:  72.6%, Training Loss: 0.407, Validation Loss: 1.060\n",
      "Iteration: 11248\n",
      "Epoch 17 --- Training Accuracy:  92.2%, Validation Accuracy:  68.1%, Training Loss: 0.480, Validation Loss: 1.256\n",
      "Iteration: 11951\n",
      "Epoch 18 --- Training Accuracy:  98.4%, Validation Accuracy:  70.9%, Training Loss: 0.331, Validation Loss: 1.142\n",
      "Iteration: 12654\n",
      "Epoch 19 --- Training Accuracy:  98.4%, Validation Accuracy:  72.8%, Training Loss: 0.383, Validation Loss: 1.127\n",
      "Iteration: 13357\n",
      "Epoch 20 --- Training Accuracy: 100.0%, Validation Accuracy:  68.4%, Training Loss: 0.325, Validation Loss: 1.306\n",
      "Iteration: 14060\n",
      "Epoch 21 --- Training Accuracy:  93.8%, Validation Accuracy:  67.3%, Training Loss: 0.445, Validation Loss: 1.448\n",
      "Iteration: 14763\n",
      "Epoch 22 --- Training Accuracy: 100.0%, Validation Accuracy:  68.5%, Training Loss: 0.347, Validation Loss: 1.354\n",
      "Iteration: 15466\n",
      "Epoch 23 --- Training Accuracy: 100.0%, Validation Accuracy:  69.6%, Training Loss: 0.330, Validation Loss: 1.308\n",
      "Iteration: 16169\n",
      "Epoch 24 --- Training Accuracy: 100.0%, Validation Accuracy:  70.2%, Training Loss: 0.325, Validation Loss: 1.253\n",
      "Iteration: 16872\n",
      "Epoch 25 --- Training Accuracy:  92.2%, Validation Accuracy:  72.7%, Training Loss: 0.428, Validation Loss: 1.220\n",
      "Time elapsed: 0:07:02\n"
     ]
    }
   ],
   "source": [
    "# Run the optimizer    \n",
    "optimize(num_iterations=16873)\n",
    "\n"
   ]
  },
  {
   "cell_type": "code",
   "execution_count": 37,
   "metadata": {
    "collapsed": true
   },
   "outputs": [],
   "source": [
    "Y_test_hot = one_hot(Y_test)\n",
    "Y_test_hot = Y_test_hot.T\n",
    "feed_dict_test= {x: X_test,y_true: Y_test_hot, phase: 0, keep_prob:1.0}\n",
    "summary, acc = session.run([merged,accuracy], feed_dict=feed_dict_test)\n"
   ]
  },
  {
   "cell_type": "code",
   "execution_count": 38,
   "metadata": {
    "collapsed": false
   },
   "outputs": [
    {
     "name": "stdout",
     "output_type": "stream",
     "text": [
      "Accuracy on test set is: 71.399993%\n"
     ]
    }
   ],
   "source": [
    "print(\"Accuracy on test set is: %f%%\"%(acc*100))"
   ]
  },
  {
   "cell_type": "markdown",
   "metadata": {},
   "source": [
    "### Write out the results"
   ]
  },
  {
   "cell_type": "code",
   "execution_count": 39,
   "metadata": {
    "collapsed": true
   },
   "outputs": [],
   "source": [
    "feed_dict_test= {x: X_test_format,y_true: Y_test_hot, phase: 0, keep_prob:1.0}\n",
    "y_pred = session.run(y_pred, feed_dict=feed_dict_test)\n",
    "save_predictions('ans1-ck2840.npy', y_pred)"
   ]
  },
  {
   "cell_type": "code",
   "execution_count": 40,
   "metadata": {
    "collapsed": true
   },
   "outputs": [],
   "source": [
    "session.close()"
   ]
  }
 ],
 "metadata": {
  "kernelspec": {
   "display_name": "Python 3",
   "language": "python",
   "name": "python3"
  },
  "language_info": {
   "codemirror_mode": {
    "name": "ipython",
    "version": 3
   },
   "file_extension": ".py",
   "mimetype": "text/x-python",
   "name": "python",
   "nbconvert_exporter": "python",
   "pygments_lexer": "ipython3",
   "version": "3.5.2"
  }
 },
 "nbformat": 4,
 "nbformat_minor": 2
}
