{
 "cells": [
  {
   "cell_type": "code",
   "execution_count": 1,
   "metadata": {
    "collapsed": true
   },
   "outputs": [],
   "source": [
    "! sh summary.sh"
   ]
  },
  {
   "cell_type": "markdown",
   "metadata": {},
   "source": [
    "### Importing required stuff"
   ]
  },
  {
   "cell_type": "code",
   "execution_count": 2,
   "metadata": {
    "collapsed": true
   },
   "outputs": [],
   "source": [
    "import time\n",
    "import math\n",
    "import random\n",
    "\n",
    "import pandas as pd\n",
    "import numpy as np\n",
    "import matplotlib.pyplot as plt\n",
    "import tensorflow as tf\n",
    "\n",
    "from datetime import timedelta\n",
    "\n",
    "import scipy.misc\n",
    "import glob\n",
    "import sys\n",
    "\n",
    "%matplotlib inline"
   ]
  },
  {
   "cell_type": "markdown",
   "metadata": {},
   "source": [
    "### Helper-functions to load data"
   ]
  },
  {
   "cell_type": "code",
   "execution_count": 3,
   "metadata": {
    "collapsed": true
   },
   "outputs": [],
   "source": [
    "# Helper functions, DO NOT modify this\n",
    "\n",
    "def get_img_array(path):\n",
    "    \"\"\"\n",
    "    Given path of image, returns it's numpy array\n",
    "    \"\"\"\n",
    "    return scipy.misc.imread(path)\n",
    "\n",
    "def get_files(folder):\n",
    "    \"\"\"\n",
    "    Given path to folder, returns list of files in it\n",
    "    \"\"\"\n",
    "    filenames = [file for file in glob.glob(folder+'*/*')]\n",
    "    filenames.sort()\n",
    "    return filenames\n",
    "\n",
    "def get_label(filepath, label2id):\n",
    "    \"\"\"\n",
    "    Files are assumed to be labeled as: /path/to/file/999_frog.png\n",
    "    Returns label for a filepath\n",
    "    \"\"\"\n",
    "    tokens = filepath.split('/')\n",
    "    label = tokens[-1].split('_')[1][:-4]\n",
    "    if label in label2id:\n",
    "        return label2id[label]\n",
    "    else:\n",
    "        sys.exit(\"Invalid label: \" + label)"
   ]
  },
  {
   "cell_type": "code",
   "execution_count": 4,
   "metadata": {
    "collapsed": true
   },
   "outputs": [],
   "source": [
    "# Functions to load data, DO NOT change these\n",
    "\n",
    "def get_labels(folder, label2id):\n",
    "    \"\"\"\n",
    "    Returns vector of labels extracted from filenames of all files in folder\n",
    "    :param folder: path to data folder\n",
    "    :param label2id: mapping of text labels to numeric ids. (Eg: automobile -> 0)\n",
    "    \"\"\"\n",
    "    files = get_files(folder)\n",
    "    y = []\n",
    "    for f in files:\n",
    "        y.append(get_label(f,label2id))\n",
    "    return np.array(y)\n",
    "\n",
    "def one_hot(y, num_classes=10):\n",
    "    \"\"\"\n",
    "    Converts each label index in y to vector with one_hot encoding\n",
    "    \"\"\"\n",
    "    y_one_hot = np.zeros((num_classes, y.shape[0]))\n",
    "    y_one_hot[y, range(y.shape[0])] = 1\n",
    "    return y_one_hot\n",
    "\n",
    "def get_label_mapping(label_file):\n",
    "    \"\"\"\n",
    "    Returns mappings of label to index and index to label\n",
    "    The input file has list of labels, each on a separate line.\n",
    "    \"\"\"\n",
    "    with open(label_file, 'r') as f:\n",
    "        id2label = f.readlines()\n",
    "        id2label = [l.strip() for l in id2label]\n",
    "    label2id = {}\n",
    "    count = 0\n",
    "    for label in id2label:\n",
    "        label2id[label] = count\n",
    "        count += 1\n",
    "    return id2label, label2id\n",
    "\n",
    "def get_images(folder):\n",
    "    \"\"\"\n",
    "    returns numpy array of all samples in folder\n",
    "    each column is a sample resized to 30x30 and flattened\n",
    "    \"\"\"\n",
    "    files = get_files(folder)\n",
    "    images = []\n",
    "    count = 0\n",
    "    \n",
    "    for f in files:\n",
    "        count += 1\n",
    "        if count % 10000 == 0:\n",
    "            print(\"Loaded {}/{}\".format(count,len(files)))\n",
    "        img_arr = get_img_array(f)\n",
    "        img_arr = img_arr.flatten() / 255.0\n",
    "        images.append(img_arr)\n",
    "    X = np.column_stack(images)\n",
    "\n",
    "    return X\n",
    "\n",
    "def get_train_data(data_root_path):\n",
    "    \"\"\"\n",
    "    Return X and y\n",
    "    \"\"\"\n",
    "    train_data_path = data_root_path + 'train'\n",
    "    id2label, label2id = get_label_mapping(data_root_path+'labels.txt')\n",
    "    print(label2id)\n",
    "    X = get_images(train_data_path)\n",
    "    y = get_labels(train_data_path, label2id)\n",
    "    return X, y\n",
    "\n",
    "def save_predictions(filename, y):\n",
    "    \"\"\"\n",
    "    Dumps y into .npy file\n",
    "    \"\"\"\n",
    "    np.save(filename, y)"
   ]
  },
  {
   "cell_type": "markdown",
   "metadata": {},
   "source": [
    "### Load data"
   ]
  },
  {
   "cell_type": "code",
   "execution_count": 5,
   "metadata": {
    "collapsed": false
   },
   "outputs": [
    {
     "name": "stdout",
     "output_type": "stream",
     "text": [
      "{'airplane': 0, 'automobile': 1, 'bird': 2, 'cat': 3, 'deer': 4, 'dog': 5, 'frog': 6, 'horse': 7, 'ship': 8, 'truck': 9}\n",
      "Loaded 10000/50000\n",
      "Loaded 20000/50000\n",
      "Loaded 30000/50000\n",
      "Loaded 40000/50000\n",
      "Loaded 50000/50000\n",
      "Loaded 10000/10000\n",
      "Data loading done\n"
     ]
    }
   ],
   "source": [
    "# Load the data\n",
    "data_root_path = 'cifar10-hw2/'\n",
    "X_train, Y_train = get_train_data(data_root_path) # this may take a few minutes\n",
    "X_test = get_images(data_root_path + 'test')\n",
    "print('Data loading done')"
   ]
  },
  {
   "cell_type": "code",
   "execution_count": 6,
   "metadata": {
    "collapsed": true
   },
   "outputs": [],
   "source": [
    "X_train = X_train.T\n",
    "X_test = X_test.T"
   ]
  },
  {
   "cell_type": "markdown",
   "metadata": {},
   "source": [
    "### Defining Hyperparameters"
   ]
  },
  {
   "cell_type": "code",
   "execution_count": 11,
   "metadata": {
    "collapsed": true
   },
   "outputs": [],
   "source": [
    "# Convolutional Layer 1.\n",
    "filter_size1 = 3 \n",
    "num_filters1 = 64\n",
    "\n",
    "# Convolutional Layer 2.\n",
    "filter_size2 = 3\n",
    "num_filters2 = 64\n",
    "\n",
    "# Convolutional Layer 2.\n",
    "filter_size3 = 3\n",
    "num_filters3 = 128\n",
    "\n",
    "# Fully-connected layer.\n",
    "fc_1 = 256                 # Number of neurons in fully-connected layer.\n",
    "fc_2 = 128                 # Number of neurons in fc layer\n",
    "\n",
    "# Number of color channels for the images: 1 channel for gray-scale.\n",
    "num_channels = 3\n",
    "\n",
    "# image dimensions (only squares for now)\n",
    "img_size = 32\n",
    "\n",
    "# Size of image when flattened to a single dimension\n",
    "img_size_flat = img_size * img_size * num_channels\n",
    "\n",
    "# Tuple with height and width of images used to reshape arrays.\n",
    "img_shape = (img_size, img_size)\n",
    "\n",
    "# class info\n",
    "classes = ['airplane','automobile','bird','cat','deer','dog','frog','horse','ship','truck']\n",
    "num_classes = len(classes)\n",
    "\n",
    "# batch size\n",
    "batch_size = 64\n",
    "\n",
    "# validation split\n",
    "validation_size = .16\n",
    "\n",
    "# learning rate \n",
    "learning_rate = 0.001\n",
    "\n",
    "# beta\n",
    "beta = 0.01\n",
    "\n",
    "import os\n",
    "# log directory\n",
    "log_dir = os.getcwd()+\"/summary_2\"\n",
    "\n",
    "# how long to wait after validation loss stops improving before terminating training\n",
    "early_stopping = None  # use None if you don't want to implement early stoping\n",
    "\n",
    "# cropped image size\n",
    "img_size_cropped = 24"
   ]
  },
  {
   "cell_type": "markdown",
   "metadata": {},
   "source": [
    "### Helper-function for plotting images\n",
    "Function used to plot 9 images in a 3x3 grid (or fewer, depending on how many images are passed), and writing the true and predicted classes below each image."
   ]
  },
  {
   "cell_type": "code",
   "execution_count": 12,
   "metadata": {
    "collapsed": true
   },
   "outputs": [],
   "source": [
    "def plot_images(images, cls_true, cls_pred=None):\n",
    "    \n",
    "    if len(images) == 0:\n",
    "        print(\"no images to show\")\n",
    "        return \n",
    "    else:\n",
    "        random_indices = random.sample(range(len(images)), min(len(images), 9))\n",
    "        \n",
    "    print(images.shape)   \n",
    "    images, cls_true  = zip(*[(images[i], cls_true[i]) for i in random_indices])\n",
    "    \n",
    "    # Create figure with 3x3 sub-plots.\n",
    "    fig, axes = plt.subplots(3, 3)\n",
    "    fig.subplots_adjust(hspace=0.3, wspace=0.3)\n",
    "\n",
    "    for i, ax in enumerate(axes.flat):\n",
    "        # Plot image.\n",
    "        ax.imshow(images[i].reshape(img_size, img_size, num_channels))\n",
    "\n",
    "        # Show true and predicted classes.\n",
    "        if cls_pred is None:\n",
    "            xlabel = \"True: {0}\".format(classes[cls_true[i]])\n",
    "        else:\n",
    "            xlabel = \"True: {0}, Pred: {1}\".format(cls_true[i], cls_pred[i])\n",
    "\n",
    "        # Show the classes as the label on the x-axis.\n",
    "        ax.set_xlabel(xlabel)\n",
    "        \n",
    "        # Remove ticks from the plot.\n",
    "        ax.set_xticks([])\n",
    "        ax.set_yticks([])\n",
    "    \n",
    "    # Ensure the plot is shown correctly with multiple plots\n",
    "    # in a single Notebook cell.\n",
    "    plt.show()"
   ]
  },
  {
   "cell_type": "markdown",
   "metadata": {},
   "source": [
    "### Plot random images to see if data is correct"
   ]
  },
  {
   "cell_type": "code",
   "execution_count": 13,
   "metadata": {
    "collapsed": false
   },
   "outputs": [
    {
     "name": "stdout",
     "output_type": "stream",
     "text": [
      "(50000, 3072)\n"
     ]
    },
    {
     "data": {
      "image/png": "[encoded data removed]",
      "text/plain": [
       "<matplotlib.figure.Figure at 0x7ff74bf74860>"
      ]
     },
     "metadata": {},
     "output_type": "display_data"
    }
   ],
   "source": [
    "# Plot the images and labels using our helper-function above.\n",
    "plot_images(X_train, Y_train)"
   ]
  },
  {
   "cell_type": "markdown",
   "metadata": {},
   "source": [
    "### Normalize the data"
   ]
  },
  {
   "cell_type": "code",
   "execution_count": 10,
   "metadata": {
    "collapsed": true
   },
   "outputs": [],
   "source": [
    "mean = np.mean(X_train, axis = 0)\n",
    "stdDev = np.std(X_train, axis = 0)\n",
    "\n",
    "X_train -= mean\n",
    "X_train /= stdDev        \n",
    "\n",
    "mean = np.mean(X_test, axis = 0)\n",
    "stdDev = np.std(X_test, axis = 0)\n",
    "\n",
    "X_test -= mean\n",
    "X_test /=stdDev"
   ]
  },
  {
   "cell_type": "markdown",
   "metadata": {},
   "source": [
    "### Tensorflow graph"
   ]
  },
  {
   "cell_type": "markdown",
   "metadata": {},
   "source": [
    "### Weights and Bias"
   ]
  },
  {
   "cell_type": "code",
   "execution_count": 14,
   "metadata": {
    "collapsed": true
   },
   "outputs": [],
   "source": [
    "def new_weights(shape, name):\n",
    "    #return tf.Variable(tf.constant(0.05, shape=shape))\n",
    "    weights = tf.get_variable(name='weights',shape=shape)\n",
    "    #tf.add_to_collection(tf.GraphKeys.REGULARIZATION_LOSSES, weights)\n",
    "    return weights\n",
    "    \n",
    "\n",
    "\n",
    "def new_biases(length, name):\n",
    "    return tf.Variable(tf.constant(0.05, shape=[length]),name='biases')\n",
    "\n",
    "one = tf.constant([1],dtype=tf.int32)"
   ]
  },
  {
   "cell_type": "markdown",
   "metadata": {},
   "source": [
    "### Batch Norm"
   ]
  },
  {
   "cell_type": "code",
   "execution_count": 15,
   "metadata": {
    "collapsed": true
   },
   "outputs": [],
   "source": [
    "def batch_norm(x, n_out, phase_train):\n",
    "    \"\"\"\n",
    "    Batch normalization on convolutional maps.\n",
    "    Ref.: http://stackoverflow.com/questions/33949786/how-could-i-use-batch-normalization-in-tensorflow\n",
    "    Args:\n",
    "        x:           Tensor, 4D BHWD input maps\n",
    "        n_out:       integer, depth of input maps\n",
    "        phase_train: boolean tf.Varialbe, true indicates training phase\n",
    "        scope:       string, variable scope\n",
    "    Return:\n",
    "        normed:      batch-normalized maps\n",
    "    \"\"\"\n",
    "    with tf.variable_scope('batch_norm'):\n",
    "        beta = tf.Variable(tf.constant(0.0, shape=[n_out]),\n",
    "                                     name='beta', trainable=True)\n",
    "        gamma = tf.Variable(tf.constant(1.0, shape=[n_out]),\n",
    "                                      name='gamma', trainable=True)\n",
    "        batch_mean, batch_var = tf.nn.moments(x, [0,1,2], name='moments')\n",
    "        ema = tf.train.ExponentialMovingAverage(decay=0.5)\n",
    "\n",
    "        def mean_var_with_update():\n",
    "            ema_apply_op = ema.apply([batch_mean, batch_var])\n",
    "            with tf.control_dependencies([ema_apply_op]):\n",
    "                return tf.identity(batch_mean), tf.identity(batch_var)\n",
    "            \n",
    "        mean, var = tf.cond(phase_train,\n",
    "                            mean_var_with_update,\n",
    "                            lambda: (ema.average(batch_mean), ema.average(batch_var)))\n",
    "        normed = tf.nn.batch_normalization(x, mean, var, beta, gamma, 1e-3)\n",
    "    return normed"
   ]
  },
  {
   "cell_type": "markdown",
   "metadata": {},
   "source": [
    "### Helper-function for summaries:"
   ]
  },
  {
   "cell_type": "code",
   "execution_count": 16,
   "metadata": {
    "collapsed": true
   },
   "outputs": [],
   "source": [
    "def variable_summaries(var):\n",
    "    \"\"\"Attach a lot of summaries to a Tensor (for TensorBoard visualization).\"\"\"\n",
    "    with tf.name_scope('summaries'):\n",
    "        mean = tf.reduce_mean(var)\n",
    "        tf.summary.scalar('mean', mean)\n",
    "        with tf.name_scope('stddev'):\n",
    "            stddev = tf.sqrt(tf.reduce_mean(tf.square(var - mean)))\n",
    "        tf.summary.scalar('stddev', stddev)\n",
    "        tf.summary.scalar('max', tf.reduce_max(var))\n",
    "        tf.summary.scalar('min', tf.reduce_min(var))\n",
    "        tf.summary.histogram('histogram', var)"
   ]
  },
  {
   "cell_type": "markdown",
   "metadata": {},
   "source": [
    "### Convolutional Layer"
   ]
  },
  {
   "cell_type": "code",
   "execution_count": 17,
   "metadata": {
    "collapsed": true
   },
   "outputs": [],
   "source": [
    "def new_conv_layer(input,              # The previous layer.\n",
    "                   num_input_channels, # Num. channels in prev. layer.\n",
    "                   filter_size,        # Width and height of each filter.\n",
    "                   num_filters,        # Number of filters.\n",
    "                   name,\n",
    "                   use_pooling=True, normalize=True, batch_normalization =False, flip = False, drop_out = False):  \n",
    "\n",
    "    # Shape of the filter-weights for the convolution.\n",
    "    shape = [filter_size, filter_size, num_input_channels, num_filters]\n",
    "\n",
    "    # Create new weights/filters\n",
    "    with tf.variable_scope('weights'):\n",
    "        weights = new_weights(name=name,shape=shape)\n",
    "        variable_summaries(weights)\n",
    "    \n",
    "    # Create new biases, one for each filter.\n",
    "    with tf.variable_scope('biases'):\n",
    "        biases = new_biases(name=name,length=num_filters)\n",
    "        variable_summaries(biases)\n",
    "    \n",
    "    # convolutional layer\n",
    "    with tf.variable_scope('convolution_layer'):\n",
    "        layer = tf.nn.conv2d(input=input,\n",
    "                             filter=weights,\n",
    "                             strides=[1, 1, 1, 1],\n",
    "                             padding='SAME')\n",
    "        # Add the biases to the results of the convolution.\n",
    "        # A bias-value is added to each filter-channel.\n",
    "        layer += biases\n",
    "\n",
    "    \n",
    "     # Adding batch_norm\n",
    "    if batch_normalization == True:\n",
    "        layer = batch_norm(layer,num_filters, phase)\n",
    "    \n",
    "    # Activation\n",
    "    with tf.variable_scope('ReLU'):\n",
    "        layer = tf.nn.relu(layer)\n",
    "    \n",
    "    # Max-pooling\n",
    "    with tf.variable_scope('Max-Pooling'):\n",
    "        if use_pooling:\n",
    "            layer = tf.nn.max_pool(value=layer,\n",
    "                                   ksize=[1, 2, 2, 1],\n",
    "                                   strides=[1, 2, 2, 1],\n",
    "                                   padding='SAME')\n",
    "\n",
    "    # dropout:\n",
    "    if (drop_out == True):\n",
    "        layer = tf.nn.droppout(layer,keep_prob)\n",
    "        \n",
    "    tf.summary.histogram('activations', layer)\n",
    "    return layer, weights"
   ]
  },
  {
   "cell_type": "markdown",
   "metadata": {},
   "source": [
    "### Flatten Layer"
   ]
  },
  {
   "cell_type": "code",
   "execution_count": 18,
   "metadata": {
    "collapsed": true
   },
   "outputs": [],
   "source": [
    "def flatten_layer(layer):\n",
    "    # Get the shape of the input layer.\n",
    "    layer_shape = layer.get_shape()\n",
    "\n",
    "    num_features = layer_shape[1:4].num_elements()\n",
    "    \n",
    "    layer_flat = tf.reshape(layer, [-1, num_features])\n",
    "\n",
    "    return layer_flat, num_features"
   ]
  },
  {
   "cell_type": "markdown",
   "metadata": {},
   "source": [
    "### FC Layer"
   ]
  },
  {
   "cell_type": "code",
   "execution_count": 19,
   "metadata": {
    "collapsed": true
   },
   "outputs": [],
   "source": [
    "def new_fc_layer(input,          # The previous layer.\n",
    "                 num_inputs,     # Num. inputs from prev. layer.\n",
    "                 num_outputs,    # Num. outputs.\n",
    "                 name,\n",
    "                 use_relu=True, drop_out=False): # Use Rectified Linear Unit (ReLU)?\n",
    "\n",
    "    # Create new weights and biases.\n",
    "    with tf.variable_scope('weights'):\n",
    "        weights = new_weights(shape=[num_inputs, num_outputs], name=name)\n",
    "        variable_summaries(weights)\n",
    "    \n",
    "    with tf.variable_scope('biases'):\n",
    "        biases = new_biases(length=num_outputs, name=name)\n",
    "        variable_summaries(biases)\n",
    "\n",
    "    # Calculate the layer as the matrix multiplication of\n",
    "    # the input and weights, and then add the bias-values.\n",
    "    with tf.variable_scope('matmul'):\n",
    "        layer = tf.matmul(input, weights) + biases\n",
    "\n",
    "    # Use ReLU?\n",
    "    if use_relu:\n",
    "        with tf.variable_scope('relu'):\n",
    "            layer = tf.nn.relu(layer)\n",
    "    # dropout:\n",
    "    if (drop_out == True):\n",
    "        layer = tf.nn.droppout(layer,keep_prob)\n",
    "\n",
    "    return layer, weights"
   ]
  },
  {
   "cell_type": "markdown",
   "metadata": {},
   "source": [
    "### Data Augmentation"
   ]
  },
  {
   "cell_type": "code",
   "execution_count": 20,
   "metadata": {
    "collapsed": true
   },
   "outputs": [],
   "source": [
    "def pre_process_image(image, training):\n",
    "    # This function takes a single image as input,\n",
    "    # and a boolean whether to build the training or testing graph.\n",
    "    \n",
    "    if training:\n",
    "        # For training, add the following to the TensorFlow graph.\n",
    "\n",
    "        # Randomly crop the input image.\n",
    "        image = tf.random_crop(image, size=[img_size_cropped, img_size_cropped, num_channels])\n",
    "\n",
    "        # Randomly flip the image horizontally.\n",
    "        image = tf.image.random_flip_left_right(image)\n",
    "        \n",
    "        # Randomly adjust hue, contrast and saturation.\n",
    "        image = tf.image.random_hue(image, max_delta=0.05)\n",
    "        image = tf.image.random_contrast(image, lower=0.3, upper=1.0)\n",
    "        image = tf.image.random_brightness(image, max_delta=0.2)\n",
    "        image = tf.image.random_saturation(image, lower=0.0, upper=2.0)\n",
    "\n",
    "        # Some of these functions may overflow and result in pixel\n",
    "        # values beyond the [0, 1] range. It is unclear from the\n",
    "        # documentation of TensorFlow 0.10.0rc0 whether this is\n",
    "        # intended. A simple solution is to limit the range.\n",
    "\n",
    "        # Limit the image pixels between [0, 1] in case of overflow.\n",
    "        image = tf.minimum(image, 1.0)\n",
    "        image = tf.maximum(image, 0.0)\n",
    "    else:\n",
    "        # For training, add the following to the TensorFlow graph.\n",
    "\n",
    "        # Crop the input image around the centre so it is the same\n",
    "        # size as images that are randomly cropped during training.\n",
    "        image = tf.image.resize_image_with_crop_or_pad(image,\n",
    "                                                       target_height=img_size_cropped,\n",
    "                                                       target_width=img_size_cropped)\n",
    "\n",
    "    return image"
   ]
  },
  {
   "cell_type": "code",
   "execution_count": 21,
   "metadata": {
    "collapsed": true
   },
   "outputs": [],
   "source": [
    "def pre_process(images, training):\n",
    "    # Use TensorFlow to loop over all the input images and call\n",
    "    # the function above which takes a single image as input.\n",
    "    images = tf.map_fn(lambda image: pre_process_image(image, training), images)\n",
    "\n",
    "    return images"
   ]
  },
  {
   "cell_type": "markdown",
   "metadata": {},
   "source": [
    "### Placeholder variables"
   ]
  },
  {
   "cell_type": "code",
   "execution_count": 22,
   "metadata": {
    "collapsed": true
   },
   "outputs": [],
   "source": [
    "x = tf.placeholder(tf.float32, shape=[None, img_size_flat], name='x')\n",
    "\n",
    "x_image = tf.reshape(x, [-1, img_size, img_size, num_channels])\n",
    "\n",
    "phase = tf.placeholder(tf.bool, name='phase')\n",
    "\n",
    "train_flag = True\n",
    "\n",
    "def set_true(): \n",
    "    global train_flag\n",
    "    train_flag = True\n",
    "    return True\n",
    "\n",
    "def set_false(): \n",
    "    global train_flag\n",
    "    train_flag = False\n",
    "    return False\n",
    "    \n",
    "x_image = tf.cond(phase, lambda: pre_process(x_image, training=True), lambda: pre_process(x_image, training=False))\n",
    "    \n",
    "y_true = tf.placeholder(tf.float32, shape=[None, num_classes], name='y_true')\n",
    "\n",
    "y_true_cls = tf.argmax(y_true, axis=1)\n",
    "\n",
    "keep_prob = tf.placeholder(tf.float32, name='keep_prob')"
   ]
  },
  {
   "cell_type": "markdown",
   "metadata": {},
   "source": [
    "### Convolutional Layers"
   ]
  },
  {
   "cell_type": "code",
   "execution_count": 23,
   "metadata": {
    "collapsed": true
   },
   "outputs": [],
   "source": [
    "with tf.variable_scope('Layer-1'):\n",
    "    layer_conv1, weights_conv1 = \\\n",
    "        new_conv_layer(input=x_image,\n",
    "                       num_input_channels=num_channels,\n",
    "                       filter_size=filter_size1,\n",
    "                       num_filters=num_filters1,\n",
    "                       name='Conv-Layer1',\n",
    "                       use_pooling=True, batch_normalization=True)\n",
    "        \n",
    "with tf.variable_scope('Layer-2'):\n",
    "    layer_conv2, weights_conv2 = \\\n",
    "        new_conv_layer(input=layer_conv1,\n",
    "                       num_input_channels=num_filters1,\n",
    "                       filter_size=filter_size2,\n",
    "                       num_filters=num_filters2,\n",
    "                       name='Conv-Layer2',\n",
    "                       use_pooling=True, drop_out=False)\n",
    "         \n",
    "with tf.variable_scope('Layer-3'):\n",
    "    layer_conv3, weights_conv3 = \\\n",
    "        new_conv_layer(input=layer_conv2,\n",
    "                       num_input_channels=num_filters2,\n",
    "                       filter_size=filter_size3,\n",
    "                       num_filters=num_filters3,\n",
    "                       name='Conv-Layer3',\n",
    "                       use_pooling=True, drop_out=False) \n"
   ]
  },
  {
   "cell_type": "markdown",
   "metadata": {},
   "source": [
    "### Flatten Layer"
   ]
  },
  {
   "cell_type": "code",
   "execution_count": 24,
   "metadata": {
    "collapsed": false
   },
   "outputs": [
    {
     "name": "stdout",
     "output_type": "stream",
     "text": [
      "Tensor(\"Flatten/Reshape:0\", shape=(?, 18432), dtype=float32) 18432\n"
     ]
    }
   ],
   "source": [
    "with tf.variable_scope('Flatten'):\n",
    "    layer_flat, num_features = flatten_layer(layer_conv3)\n",
    "\n",
    "print(layer_flat,num_features)"
   ]
  },
  {
   "cell_type": "markdown",
   "metadata": {},
   "source": [
    "### FC Layers"
   ]
  },
  {
   "cell_type": "code",
   "execution_count": 25,
   "metadata": {
    "collapsed": true
   },
   "outputs": [],
   "source": [
    "with tf.variable_scope('Fully-Connected-1'):\n",
    "    layer_fc1, weights_fc1 = new_fc_layer(input=layer_flat,\n",
    "                             num_inputs=num_features,\n",
    "                             num_outputs=fc_1,\n",
    "                             use_relu=True, drop_out=False, name='FC1')\n",
    "    \n",
    "with tf.variable_scope('Fully-Connected-2'):\n",
    "    layer_fc2, weights_fc2 = new_fc_layer(input=layer_fc1,\n",
    "                             num_inputs=fc_1,\n",
    "                             num_outputs=fc_2,\n",
    "                             use_relu=True, drop_out=False, name='FC2')\n",
    "    \n",
    "with tf.variable_scope('Fully-connected-3'):\n",
    "    layer_fc3, weights_fc3 = new_fc_layer(input=layer_fc2,\n",
    "                             num_inputs=fc_2,\n",
    "                             num_outputs=num_classes,\n",
    "                             use_relu=True, name='FC3')\n",
    "    \n",
    "#with tf.variable_scope('dropout'):\n",
    "#    layer = tf.nn.dropout(layer_fc2,keep_prob)"
   ]
  },
  {
   "cell_type": "markdown",
   "metadata": {},
   "source": [
    "### Softmax and argmax functions"
   ]
  },
  {
   "cell_type": "code",
   "execution_count": 26,
   "metadata": {
    "collapsed": true
   },
   "outputs": [],
   "source": [
    "with tf.variable_scope('Softmax'):\n",
    "    y_pred = tf.nn.softmax(layer_fc3)\n",
    "    y_pred_cls = tf.argmax(y_pred, axis=1)"
   ]
  },
  {
   "cell_type": "markdown",
   "metadata": {},
   "source": [
    "### Cost-Function:"
   ]
  },
  {
   "cell_type": "code",
   "execution_count": 27,
   "metadata": {
    "collapsed": false
   },
   "outputs": [
    {
     "data": {
      "text/plain": [
       "<tf.Tensor 'Total-Loss:0' shape=() dtype=string>"
      ]
     },
     "execution_count": 27,
     "metadata": {},
     "output_type": "execute_result"
    }
   ],
   "source": [
    "with tf.variable_scope('cross_entropy_loss'):\n",
    "    cross_entropy = tf.nn.softmax_cross_entropy_with_logits(logits=layer_fc3,\n",
    "                                                        labels=y_true)\n",
    "\n",
    "    loss = tf.reduce_mean(cross_entropy)\n",
    "    tf.summary.scalar('cross_entropy', loss)\n",
    "        \n",
    "with tf.variable_scope('Regularization'):\n",
    "    regularizers = tf.nn.l2_loss(weights_conv1) + tf.nn.l2_loss(weights_conv2) + tf.nn.l2_loss(weights_fc1) + \\\n",
    "                   tf.nn.l2_loss(weights_fc2) + tf.nn.l2_loss(weights_fc3)\n",
    "    loss = tf.reduce_mean(loss + beta * regularizers)\n",
    "\n",
    "    \n",
    "cost = loss\n",
    "tf.summary.scalar('Total-Loss', cost)"
   ]
  },
  {
   "cell_type": "markdown",
   "metadata": {},
   "source": [
    "### Using SGD Optimizer"
   ]
  },
  {
   "cell_type": "code",
   "execution_count": 28,
   "metadata": {
    "collapsed": true
   },
   "outputs": [],
   "source": [
    "with tf.variable_scope('SGD'):\n",
    "    global_step = tf.Variable(0)  # count the number of steps taken.\n",
    "    start_learning_rate = 0.01\n",
    "    learning_rate = tf.train.exponential_decay(start_learning_rate, global_step, 20000, 0.96, staircase=True)\n",
    "    sgd = tf.train.GradientDescentOptimizer(learning_rate)\n",
    "    optimizer = sgd.minimize(loss, global_step=global_step)\n",
    "        \n",
    "    tf.summary.histogram(\"conv2d_1_weights_grad\",\n",
    "                             sgd.compute_gradients(loss=loss,\n",
    "                                                         var_list=\n",
    "                                                         [v for v in tf.trainable_variables() if v.name == 'Layer-1/weights/weights:0'])[0]\n",
    "                            )\n",
    "    tf.summary.histogram(\"conv2d_2_weights_grad\",\n",
    "                             sgd.compute_gradients(loss=loss,\n",
    "                                                         var_list=\n",
    "                                                         [v for v in tf.trainable_variables() if v.name == 'Layer-2/weights/weights:0'])[0]\n",
    "                            )\n",
    "    tf.summary.histogram(\"conv2d_3_weights_grad\",\n",
    "                             sgd.compute_gradients(loss=loss,\n",
    "                                                         var_list=\n",
    "                                                         [v for v in tf.trainable_variables() if v.name == 'Layer-3/weights/weights:0'])[0]\n",
    "                            )\n",
    "    tf.summary.histogram(\"dense_weights_grad\",\n",
    "                            sgd.compute_gradients(loss=loss,\n",
    "                                                        var_list=\n",
    "                                                        [v for v in tf.trainable_variables() if v.name == 'Fully-connected-3/weights/weights:0'])[0]\n",
    "                        )"
   ]
  },
  {
   "cell_type": "markdown",
   "metadata": {},
   "source": [
    "### Metrics"
   ]
  },
  {
   "cell_type": "code",
   "execution_count": 29,
   "metadata": {
    "collapsed": true
   },
   "outputs": [],
   "source": [
    "with tf.variable_scope('Metrics'):\n",
    "    correct_prediction = tf.equal(y_pred_cls, y_true_cls)\n",
    "    accuracy = tf.reduce_mean(tf.cast(correct_prediction, tf.float32))\n",
    "    tf.summary.scalar('accuracy', accuracy)"
   ]
  },
  {
   "cell_type": "markdown",
   "metadata": {},
   "source": [
    "### Tensorflow Session"
   ]
  },
  {
   "cell_type": "code",
   "execution_count": 30,
   "metadata": {
    "collapsed": true
   },
   "outputs": [],
   "source": [
    "session = tf.Session()\n",
    "session.run(tf.global_variables_initializer())"
   ]
  },
  {
   "cell_type": "markdown",
   "metadata": {},
   "source": [
    "### Summaries"
   ]
  },
  {
   "cell_type": "code",
   "execution_count": 31,
   "metadata": {
    "collapsed": true
   },
   "outputs": [],
   "source": [
    "merged = tf.summary.merge_all()\n",
    "train_writer = tf.summary.FileWriter(log_dir + '/train', session.graph)\n",
    "test_writer = tf.summary.FileWriter(log_dir + '/test')"
   ]
  },
  {
   "cell_type": "code",
   "execution_count": 32,
   "metadata": {
    "collapsed": false
   },
   "outputs": [
    {
     "name": "stdout",
     "output_type": "stream",
     "text": [
      "(50000, 3072)\n"
     ]
    }
   ],
   "source": [
    "print(X_train.shape)"
   ]
  },
  {
   "cell_type": "code",
   "execution_count": 33,
   "metadata": {
    "collapsed": true
   },
   "outputs": [],
   "source": [
    "def one_hot(y, num_classes=10):\n",
    "    \"\"\"\n",
    "    Converts each label index in y to vector with one_hot encoding\n",
    "    \"\"\"\n",
    "    y_one_hot = np.zeros((num_classes, y.shape[0]))\n",
    "    y_one_hot[y, range(y.shape[0])] = 1\n",
    "    return y_one_hot\n",
    "\n",
    "Y_hot = one_hot(Y_train)\n",
    "Y_hot = Y_hot.T\n",
    "# split test and train:\n",
    "x_dev_batch = X_train[0:5000,:]\n",
    "y_dev_batch = Y_hot[0:5000,:]\n",
    "X_train = X_train[5000:,:]\n",
    "Y_hot = Y_hot[5000:,:]"
   ]
  },
  {
   "cell_type": "markdown",
   "metadata": {},
   "source": [
    "###  Checkpoints"
   ]
  },
  {
   "cell_type": "code",
   "execution_count": 34,
   "metadata": {
    "collapsed": true
   },
   "outputs": [],
   "source": [
    "import os\n",
    "\n",
    "save_dir = 'checkpoints/'\n",
    "\n",
    "if not os.path.exists(save_dir):\n",
    "    os.makedirs(save_dir)\n",
    "\n",
    "save_path = os.path.join(save_dir, 'cifar10_cnn')\n",
    "\n",
    "saver = tf.train.Saver()"
   ]
  },
  {
   "cell_type": "markdown",
   "metadata": {},
   "source": [
    "### Training"
   ]
  },
  {
   "cell_type": "code",
   "execution_count": 35,
   "metadata": {
    "collapsed": true
   },
   "outputs": [],
   "source": [
    "train_batch_size = batch_size\n",
    "\n",
    "def print_status(epoch, feed_dict_train, feed_dict_validate, step, max_acc):\n",
    "    # Calculate the accuracy on the training-set.\n",
    "    train_loss, summary, acc = session.run([cost, merged,accuracy], feed_dict=feed_dict_train)\n",
    "    train_writer.add_summary(summary, step)\n",
    "    val_loss, summary, val_acc = session.run([cost, merged,accuracy], feed_dict=feed_dict_validate)\n",
    "    test_writer.add_summary(summary, step)\n",
    "    msg = \"Epoch {0} --- Training Accuracy: {1:>6.1%}, Validation Accuracy: {2:>6.1%}, Train Loss: {3:.3f} Validation Loss: {4:.3f}\"\n",
    "    print(msg.format(epoch + 1, acc, val_acc, train_loss, val_loss))\n",
    "    \n",
    "    if max_acc < val_acc:\n",
    "        max_acc = val_acc\n",
    "        saver.save(session,\n",
    "                   save_path=save_path,\n",
    "                   global_step=step)\n",
    "\n",
    "        print(\"Saved checkpoint.\")\n",
    "    return max_acc\n",
    "    \n",
    "# Counter for total number of iterations performed so far.\n",
    "total_iterations = 0\n",
    "\n",
    "def get_batch(X, Y, batch_size):\n",
    "    \"\"\"\n",
    "    Return minibatch of samples and labels\n",
    "        \n",
    "    :param X, y: samples and corresponding labels\n",
    "    :parma batch_size: minibatch size\n",
    "    :returns: (tuple) X_batch, y_batch\n",
    "    \"\"\"\n",
    "    \n",
    "    # Create a random index.\n",
    "    idx = np.random.choice(len(X_train),\n",
    "                           size=batch_size,\n",
    "                           replace=False)\n",
    "\n",
    "\n",
    "    X_batch = X[idx,:]\n",
    "    Y_batch = Y[idx,:]\n",
    "    return X_batch, Y_batch\n",
    "\n",
    "max_acc = 0\n",
    "\n",
    "def optimize(num_iterations):\n",
    "    # Ensure we update the global variable rather than a local copy.\n",
    "    global total_iterations\n",
    "    \n",
    "    best_val_loss = float(\"inf\")\n",
    "    patience = 0\n",
    "\n",
    "    global max_acc\n",
    "    for i in range(total_iterations,\n",
    "                   total_iterations + num_iterations):\n",
    "\n",
    "\n",
    "        x_batch, y_true_batch = get_batch(X_train,Y_hot, train_batch_size)\n",
    "\n",
    "        feed_dict_train = {x: x_batch,\n",
    "                           y_true: y_true_batch, phase: True, keep_prob:0.5}\n",
    "        \n",
    "        feed_dict_validate = {x: x_dev_batch,\n",
    "                              y_true: y_dev_batch, phase: False, keep_prob:1.0}\n",
    "\n",
    "\n",
    "        acc = session.run(optimizer, feed_dict=feed_dict_train)\n",
    "        \n",
    "        # Print status at end of each epoch (defined as full pass through training dataset).\n",
    "        if i % int(X_train.shape[0]/batch_size) == 0 == 0: \n",
    "            epoch = int(i / int(X_train.shape[0]/batch_size))\n",
    "            print('Iteration:',i)\n",
    "            max_acc = print_status(epoch, feed_dict_train, feed_dict_validate, i, max_acc)\n",
    "            \n",
    "    # Update the total number of iterations performed.\n",
    "    total_iterations += num_iterations\n",
    "\n",
    "    # close the writers\n",
    "    train_writer.close()\n",
    "    test_writer.close()"
   ]
  },
  {
   "cell_type": "code",
   "execution_count": 36,
   "metadata": {
    "collapsed": false,
    "scrolled": true
   },
   "outputs": [
    {
     "name": "stdout",
     "output_type": "stream",
     "text": [
      "Iteration: 0\n",
      "Epoch 1 --- Training Accuracy:  25.0%, Validation Accuracy:  12.5%, Train Loss: 6.061 Validation Loss: 6.122\n",
      "Saved checkpoint.\n",
      "Iteration: 703\n",
      "Epoch 2 --- Training Accuracy:  34.4%, Validation Accuracy:  42.5%, Train Loss: 5.250 Validation Loss: 4.944\n",
      "Saved checkpoint.\n",
      "Iteration: 1406\n",
      "Epoch 3 --- Training Accuracy:  50.0%, Validation Accuracy:  44.4%, Train Loss: 4.288 Validation Loss: 4.545\n",
      "Saved checkpoint.\n",
      "Iteration: 2109\n",
      "Epoch 4 --- Training Accuracy:  45.3%, Validation Accuracy:  48.3%, Train Loss: 4.147 Validation Loss: 4.053\n",
      "Saved checkpoint.\n",
      "Iteration: 2812\n",
      "Epoch 5 --- Training Accuracy:  40.6%, Validation Accuracy:  50.0%, Train Loss: 3.748 Validation Loss: 3.661\n",
      "Saved checkpoint.\n",
      "Iteration: 3515\n",
      "Epoch 6 --- Training Accuracy:  57.8%, Validation Accuracy:  54.6%, Train Loss: 3.368 Validation Loss: 3.255\n",
      "Saved checkpoint.\n",
      "Iteration: 4218\n",
      "Epoch 7 --- Training Accuracy:  50.0%, Validation Accuracy:  56.9%, Train Loss: 3.143 Validation Loss: 2.964\n",
      "Saved checkpoint.\n",
      "Iteration: 4921\n",
      "Epoch 8 --- Training Accuracy:  56.2%, Validation Accuracy:  56.1%, Train Loss: 2.954 Validation Loss: 2.832\n",
      "Iteration: 5624\n",
      "Epoch 9 --- Training Accuracy:  56.2%, Validation Accuracy:  59.2%, Train Loss: 2.725 Validation Loss: 2.542\n",
      "Saved checkpoint.\n",
      "Iteration: 6327\n",
      "Epoch 10 --- Training Accuracy:  60.9%, Validation Accuracy:  56.8%, Train Loss: 2.390 Validation Loss: 2.450\n",
      "Iteration: 7030\n",
      "Epoch 11 --- Training Accuracy:  70.3%, Validation Accuracy:  61.8%, Train Loss: 2.073 Validation Loss: 2.178\n",
      "Saved checkpoint.\n",
      "Iteration: 7733\n",
      "Epoch 12 --- Training Accuracy:  57.8%, Validation Accuracy:  59.0%, Train Loss: 2.102 Validation Loss: 2.220\n",
      "Iteration: 8436\n",
      "Epoch 13 --- Training Accuracy:  62.5%, Validation Accuracy:  64.2%, Train Loss: 2.032 Validation Loss: 1.915\n",
      "Saved checkpoint.\n",
      "Iteration: 9139\n",
      "Epoch 14 --- Training Accuracy:  59.4%, Validation Accuracy:  64.1%, Train Loss: 2.019 Validation Loss: 1.866\n",
      "Iteration: 9842\n",
      "Epoch 15 --- Training Accuracy:  65.6%, Validation Accuracy:  66.0%, Train Loss: 1.864 Validation Loss: 1.715\n",
      "Saved checkpoint.\n",
      "Iteration: 10545\n",
      "Epoch 16 --- Training Accuracy:  73.4%, Validation Accuracy:  66.2%, Train Loss: 1.509 Validation Loss: 1.653\n",
      "Saved checkpoint.\n",
      "Iteration: 11248\n",
      "Epoch 17 --- Training Accuracy:  73.4%, Validation Accuracy:  66.2%, Train Loss: 1.512 Validation Loss: 1.611\n",
      "Iteration: 11951\n",
      "Epoch 18 --- Training Accuracy:  62.5%, Validation Accuracy:  66.2%, Train Loss: 1.673 Validation Loss: 1.563\n",
      "Iteration: 12654\n",
      "Epoch 19 --- Training Accuracy:  65.6%, Validation Accuracy:  63.4%, Train Loss: 1.448 Validation Loss: 1.578\n",
      "Iteration: 13357\n",
      "Epoch 20 --- Training Accuracy:  68.8%, Validation Accuracy:  67.2%, Train Loss: 1.384 Validation Loss: 1.461\n",
      "Saved checkpoint.\n",
      "Iteration: 14060\n",
      "Epoch 21 --- Training Accuracy:  73.4%, Validation Accuracy:  66.7%, Train Loss: 1.254 Validation Loss: 1.417\n",
      "Iteration: 14763\n",
      "Epoch 22 --- Training Accuracy:  64.1%, Validation Accuracy:  67.2%, Train Loss: 1.565 Validation Loss: 1.398\n",
      "Iteration: 15466\n",
      "Epoch 23 --- Training Accuracy:  73.4%, Validation Accuracy:  69.5%, Train Loss: 1.258 Validation Loss: 1.310\n",
      "Saved checkpoint.\n",
      "Iteration: 16169\n",
      "Epoch 24 --- Training Accuracy:  65.6%, Validation Accuracy:  69.8%, Train Loss: 1.288 Validation Loss: 1.281\n",
      "Saved checkpoint.\n",
      "Iteration: 16872\n",
      "Epoch 25 --- Training Accuracy:  67.2%, Validation Accuracy:  69.9%, Train Loss: 1.383 Validation Loss: 1.289\n",
      "Saved checkpoint.\n",
      "Iteration: 17575\n",
      "Epoch 26 --- Training Accuracy:  68.8%, Validation Accuracy:  70.4%, Train Loss: 1.424 Validation Loss: 1.244\n",
      "Saved checkpoint.\n",
      "Iteration: 18278\n",
      "Epoch 27 --- Training Accuracy:  65.6%, Validation Accuracy:  67.5%, Train Loss: 1.276 Validation Loss: 1.316\n",
      "Iteration: 18981\n",
      "Epoch 28 --- Training Accuracy:  68.8%, Validation Accuracy:  72.4%, Train Loss: 1.278 Validation Loss: 1.167\n",
      "Saved checkpoint.\n",
      "Iteration: 19684\n",
      "Epoch 29 --- Training Accuracy:  60.9%, Validation Accuracy:  68.6%, Train Loss: 1.325 Validation Loss: 1.249\n",
      "Iteration: 20387\n",
      "Epoch 30 --- Training Accuracy:  65.6%, Validation Accuracy:  66.8%, Train Loss: 1.269 Validation Loss: 1.313\n",
      "Iteration: 21090\n",
      "Epoch 31 --- Training Accuracy:  70.3%, Validation Accuracy:  71.9%, Train Loss: 1.266 Validation Loss: 1.156\n",
      "Iteration: 21793\n",
      "Epoch 32 --- Training Accuracy:  81.2%, Validation Accuracy:  73.1%, Train Loss: 1.112 Validation Loss: 1.126\n",
      "Saved checkpoint.\n",
      "Iteration: 22496\n",
      "Epoch 33 --- Training Accuracy:  68.8%, Validation Accuracy:  72.0%, Train Loss: 1.207 Validation Loss: 1.136\n",
      "Iteration: 23199\n",
      "Epoch 34 --- Training Accuracy:  71.9%, Validation Accuracy:  72.3%, Train Loss: 1.154 Validation Loss: 1.135\n",
      "Iteration: 23902\n",
      "Epoch 35 --- Training Accuracy:  70.3%, Validation Accuracy:  71.6%, Train Loss: 1.156 Validation Loss: 1.144\n",
      "Iteration: 24605\n",
      "Epoch 36 --- Training Accuracy:  79.7%, Validation Accuracy:  72.0%, Train Loss: 1.138 Validation Loss: 1.131\n",
      "Iteration: 25308\n",
      "Epoch 37 --- Training Accuracy:  65.6%, Validation Accuracy:  70.5%, Train Loss: 1.340 Validation Loss: 1.164\n",
      "Iteration: 26011\n",
      "Epoch 38 --- Training Accuracy:  79.7%, Validation Accuracy:  72.3%, Train Loss: 1.198 Validation Loss: 1.124\n",
      "Iteration: 26714\n",
      "Epoch 39 --- Training Accuracy:  79.7%, Validation Accuracy:  70.4%, Train Loss: 0.981 Validation Loss: 1.190\n",
      "Iteration: 27417\n",
      "Epoch 40 --- Training Accuracy:  76.6%, Validation Accuracy:  72.7%, Train Loss: 0.975 Validation Loss: 1.100\n",
      "Iteration: 28120\n",
      "Epoch 41 --- Training Accuracy:  59.4%, Validation Accuracy:  71.6%, Train Loss: 1.347 Validation Loss: 1.125\n",
      "Iteration: 28823\n",
      "Epoch 42 --- Training Accuracy:  81.2%, Validation Accuracy:  72.2%, Train Loss: 1.028 Validation Loss: 1.107\n",
      "Iteration: 29526\n",
      "Epoch 43 --- Training Accuracy:  68.8%, Validation Accuracy:  71.8%, Train Loss: 1.195 Validation Loss: 1.136\n",
      "Iteration: 30229\n",
      "Epoch 44 --- Training Accuracy:  75.0%, Validation Accuracy:  70.0%, Train Loss: 1.188 Validation Loss: 1.167\n",
      "Iteration: 30932\n",
      "Epoch 45 --- Training Accuracy:  73.4%, Validation Accuracy:  69.9%, Train Loss: 1.106 Validation Loss: 1.162\n",
      "Iteration: 31635\n",
      "Epoch 46 --- Training Accuracy:  82.8%, Validation Accuracy:  73.8%, Train Loss: 0.928 Validation Loss: 1.069\n",
      "Saved checkpoint.\n",
      "Iteration: 32338\n",
      "Epoch 47 --- Training Accuracy:  71.9%, Validation Accuracy:  70.9%, Train Loss: 1.310 Validation Loss: 1.182\n",
      "Iteration: 33041\n",
      "Epoch 48 --- Training Accuracy:  75.0%, Validation Accuracy:  75.3%, Train Loss: 1.028 Validation Loss: 1.027\n",
      "Saved checkpoint.\n",
      "Iteration: 33744\n",
      "Epoch 49 --- Training Accuracy:  81.2%, Validation Accuracy:  70.7%, Train Loss: 0.885 Validation Loss: 1.158\n",
      "Iteration: 34447\n",
      "Epoch 50 --- Training Accuracy:  70.3%, Validation Accuracy:  72.8%, Train Loss: 1.155 Validation Loss: 1.091\n",
      "Iteration: 35150\n",
      "Epoch 51 --- Training Accuracy:  71.9%, Validation Accuracy:  74.8%, Train Loss: 1.070 Validation Loss: 1.043\n",
      "Iteration: 35853\n",
      "Epoch 52 --- Training Accuracy:  73.4%, Validation Accuracy:  72.2%, Train Loss: 0.992 Validation Loss: 1.112\n",
      "Iteration: 36556\n",
      "Epoch 53 --- Training Accuracy:  67.2%, Validation Accuracy:  75.7%, Train Loss: 1.146 Validation Loss: 1.026\n",
      "Saved checkpoint.\n",
      "Iteration: 37259\n",
      "Epoch 54 --- Training Accuracy:  73.4%, Validation Accuracy:  73.0%, Train Loss: 1.189 Validation Loss: 1.106\n",
      "Iteration: 37962\n",
      "Epoch 55 --- Training Accuracy:  71.9%, Validation Accuracy:  74.5%, Train Loss: 1.087 Validation Loss: 1.060\n",
      "Iteration: 38665\n",
      "Epoch 56 --- Training Accuracy:  87.5%, Validation Accuracy:  70.1%, Train Loss: 0.862 Validation Loss: 1.201\n",
      "Iteration: 39368\n",
      "Epoch 57 --- Training Accuracy:  71.9%, Validation Accuracy:  75.0%, Train Loss: 1.189 Validation Loss: 1.039\n",
      "Iteration: 40071\n",
      "Epoch 58 --- Training Accuracy:  78.1%, Validation Accuracy:  74.3%, Train Loss: 1.107 Validation Loss: 1.054\n",
      "Iteration: 40774\n",
      "Epoch 59 --- Training Accuracy:  68.8%, Validation Accuracy:  75.6%, Train Loss: 1.131 Validation Loss: 1.028\n",
      "Iteration: 41477\n",
      "Epoch 60 --- Training Accuracy:  82.8%, Validation Accuracy:  75.4%, Train Loss: 0.951 Validation Loss: 1.031\n",
      "Iteration: 42180\n",
      "Epoch 61 --- Training Accuracy:  78.1%, Validation Accuracy:  75.4%, Train Loss: 0.991 Validation Loss: 1.040\n",
      "Iteration: 42883\n",
      "Epoch 62 --- Training Accuracy:  64.1%, Validation Accuracy:  72.4%, Train Loss: 1.252 Validation Loss: 1.135\n",
      "Iteration: 43586\n",
      "Epoch 63 --- Training Accuracy:  73.4%, Validation Accuracy:  75.8%, Train Loss: 1.130 Validation Loss: 1.013\n",
      "Saved checkpoint.\n",
      "Iteration: 44289\n",
      "Epoch 64 --- Training Accuracy:  73.4%, Validation Accuracy:  73.4%, Train Loss: 0.999 Validation Loss: 1.094\n",
      "Iteration: 44992\n",
      "Epoch 65 --- Training Accuracy:  73.4%, Validation Accuracy:  73.9%, Train Loss: 1.008 Validation Loss: 1.061\n",
      "Iteration: 45695\n",
      "Epoch 66 --- Training Accuracy:  79.7%, Validation Accuracy:  75.0%, Train Loss: 0.977 Validation Loss: 1.052\n",
      "Iteration: 46398\n",
      "Epoch 67 --- Training Accuracy:  76.6%, Validation Accuracy:  76.2%, Train Loss: 1.081 Validation Loss: 1.015\n",
      "Saved checkpoint.\n",
      "Iteration: 47101\n",
      "Epoch 68 --- Training Accuracy:  76.6%, Validation Accuracy:  76.1%, Train Loss: 1.050 Validation Loss: 1.026\n",
      "Iteration: 47804\n",
      "Epoch 69 --- Training Accuracy:  65.6%, Validation Accuracy:  74.2%, Train Loss: 1.182 Validation Loss: 1.056\n",
      "Iteration: 48507\n",
      "Epoch 70 --- Training Accuracy:  73.4%, Validation Accuracy:  74.5%, Train Loss: 1.021 Validation Loss: 1.067\n",
      "Iteration: 49210\n",
      "Epoch 71 --- Training Accuracy:  79.7%, Validation Accuracy:  71.7%, Train Loss: 1.087 Validation Loss: 1.162\n",
      "Iteration: 49913\n",
      "Epoch 72 --- Training Accuracy:  71.9%, Validation Accuracy:  75.1%, Train Loss: 1.071 Validation Loss: 1.050\n",
      "Iteration: 50616\n",
      "Epoch 73 --- Training Accuracy:  70.3%, Validation Accuracy:  75.1%, Train Loss: 1.266 Validation Loss: 1.042\n",
      "Iteration: 51319\n",
      "Epoch 74 --- Training Accuracy:  79.7%, Validation Accuracy:  74.7%, Train Loss: 0.965 Validation Loss: 1.041\n",
      "Iteration: 52022\n",
      "Epoch 75 --- Training Accuracy:  71.9%, Validation Accuracy:  73.8%, Train Loss: 0.986 Validation Loss: 1.085\n",
      "Iteration: 52725\n",
      "Epoch 76 --- Training Accuracy:  73.4%, Validation Accuracy:  74.7%, Train Loss: 1.010 Validation Loss: 1.047\n",
      "Iteration: 53428\n",
      "Epoch 77 --- Training Accuracy:  70.3%, Validation Accuracy:  75.3%, Train Loss: 1.206 Validation Loss: 1.046\n",
      "Iteration: 54131\n",
      "Epoch 78 --- Training Accuracy:  82.8%, Validation Accuracy:  75.6%, Train Loss: 0.886 Validation Loss: 1.037\n",
      "Iteration: 54834\n",
      "Epoch 79 --- Training Accuracy:  70.3%, Validation Accuracy:  75.1%, Train Loss: 1.105 Validation Loss: 1.033\n",
      "Iteration: 55537\n",
      "Epoch 80 --- Training Accuracy:  68.8%, Validation Accuracy:  72.3%, Train Loss: 1.037 Validation Loss: 1.127\n",
      "Iteration: 56240\n",
      "Epoch 81 --- Training Accuracy:  75.0%, Validation Accuracy:  74.7%, Train Loss: 1.048 Validation Loss: 1.037\n",
      "Iteration: 56943\n",
      "Epoch 82 --- Training Accuracy:  82.8%, Validation Accuracy:  75.7%, Train Loss: 0.847 Validation Loss: 1.026\n",
      "Iteration: 57646\n",
      "Epoch 83 --- Training Accuracy:  75.0%, Validation Accuracy:  72.4%, Train Loss: 1.119 Validation Loss: 1.123\n",
      "Iteration: 58349\n",
      "Epoch 84 --- Training Accuracy:  82.8%, Validation Accuracy:  74.8%, Train Loss: 0.936 Validation Loss: 1.060\n",
      "Iteration: 59052\n",
      "Epoch 85 --- Training Accuracy:  73.4%, Validation Accuracy:  74.5%, Train Loss: 1.034 Validation Loss: 1.083\n",
      "Iteration: 59755\n",
      "Epoch 86 --- Training Accuracy:  70.3%, Validation Accuracy:  76.1%, Train Loss: 1.189 Validation Loss: 1.019\n",
      "Iteration: 60458\n",
      "Epoch 87 --- Training Accuracy:  84.4%, Validation Accuracy:  75.8%, Train Loss: 0.917 Validation Loss: 1.002\n",
      "Iteration: 61161\n",
      "Epoch 88 --- Training Accuracy:  73.4%, Validation Accuracy:  76.9%, Train Loss: 1.015 Validation Loss: 0.991\n",
      "Saved checkpoint.\n",
      "Iteration: 61864\n",
      "Epoch 89 --- Training Accuracy:  76.6%, Validation Accuracy:  73.4%, Train Loss: 1.014 Validation Loss: 1.107\n",
      "Iteration: 62567\n",
      "Epoch 90 --- Training Accuracy:  78.1%, Validation Accuracy:  73.6%, Train Loss: 1.096 Validation Loss: 1.096\n",
      "Iteration: 63270\n",
      "Epoch 91 --- Training Accuracy:  82.8%, Validation Accuracy:  77.1%, Train Loss: 0.930 Validation Loss: 0.978\n",
      "Saved checkpoint.\n",
      "Iteration: 63973\n",
      "Epoch 92 --- Training Accuracy:  87.5%, Validation Accuracy:  75.9%, Train Loss: 0.835 Validation Loss: 1.017\n",
      "Iteration: 64676\n",
      "Epoch 93 --- Training Accuracy:  73.4%, Validation Accuracy:  75.8%, Train Loss: 1.156 Validation Loss: 1.026\n",
      "Iteration: 65379\n",
      "Epoch 94 --- Training Accuracy:  75.0%, Validation Accuracy:  74.5%, Train Loss: 0.994 Validation Loss: 1.084\n",
      "Iteration: 66082\n",
      "Epoch 95 --- Training Accuracy:  65.6%, Validation Accuracy:  77.3%, Train Loss: 1.198 Validation Loss: 0.988\n",
      "Saved checkpoint.\n",
      "Iteration: 66785\n",
      "Epoch 96 --- Training Accuracy:  76.6%, Validation Accuracy:  76.8%, Train Loss: 1.111 Validation Loss: 1.019\n",
      "Iteration: 67488\n",
      "Epoch 97 --- Training Accuracy:  68.8%, Validation Accuracy:  75.7%, Train Loss: 1.113 Validation Loss: 1.059\n",
      "Iteration: 68191\n",
      "Epoch 98 --- Training Accuracy:  71.9%, Validation Accuracy:  71.0%, Train Loss: 0.994 Validation Loss: 1.174\n",
      "Iteration: 68894\n",
      "Epoch 99 --- Training Accuracy:  76.6%, Validation Accuracy:  77.4%, Train Loss: 0.977 Validation Loss: 0.964\n",
      "Saved checkpoint.\n",
      "Iteration: 69597\n",
      "Epoch 100 --- Training Accuracy:  82.8%, Validation Accuracy:  76.0%, Train Loss: 0.889 Validation Loss: 1.014\n",
      "Iteration: 70300\n",
      "Epoch 101 --- Training Accuracy:  89.1%, Validation Accuracy:  75.2%, Train Loss: 0.847 Validation Loss: 1.028\n",
      "Iteration: 71003\n",
      "Epoch 102 --- Training Accuracy:  76.6%, Validation Accuracy:  73.2%, Train Loss: 1.014 Validation Loss: 1.109\n",
      "Iteration: 71706\n",
      "Epoch 103 --- Training Accuracy:  82.8%, Validation Accuracy:  77.4%, Train Loss: 0.823 Validation Loss: 0.989\n",
      "Iteration: 72409\n",
      "Epoch 104 --- Training Accuracy:  75.0%, Validation Accuracy:  76.2%, Train Loss: 0.968 Validation Loss: 1.020\n",
      "Iteration: 73112\n",
      "Epoch 105 --- Training Accuracy:  81.2%, Validation Accuracy:  76.8%, Train Loss: 0.874 Validation Loss: 0.988\n",
      "Iteration: 73815\n",
      "Epoch 106 --- Training Accuracy:  70.3%, Validation Accuracy:  75.5%, Train Loss: 1.261 Validation Loss: 1.046\n",
      "Iteration: 74518\n",
      "Epoch 107 --- Training Accuracy:  65.6%, Validation Accuracy:  76.0%, Train Loss: 1.152 Validation Loss: 1.026\n",
      "Iteration: 75221\n",
      "Epoch 108 --- Training Accuracy:  79.7%, Validation Accuracy:  77.8%, Train Loss: 0.922 Validation Loss: 0.990\n",
      "Saved checkpoint.\n",
      "Iteration: 75924\n",
      "Epoch 109 --- Training Accuracy:  78.1%, Validation Accuracy:  74.4%, Train Loss: 1.026 Validation Loss: 1.081\n",
      "Iteration: 76627\n",
      "Epoch 110 --- Training Accuracy:  79.7%, Validation Accuracy:  76.9%, Train Loss: 0.905 Validation Loss: 0.996\n",
      "Iteration: 77330\n",
      "Epoch 111 --- Training Accuracy:  64.1%, Validation Accuracy:  73.0%, Train Loss: 1.183 Validation Loss: 1.129\n",
      "Iteration: 78033\n",
      "Epoch 112 --- Training Accuracy:  70.3%, Validation Accuracy:  77.4%, Train Loss: 1.080 Validation Loss: 0.985\n",
      "Iteration: 78736\n",
      "Epoch 113 --- Training Accuracy:  84.4%, Validation Accuracy:  75.2%, Train Loss: 0.922 Validation Loss: 1.036\n",
      "Iteration: 79439\n",
      "Epoch 114 --- Training Accuracy:  84.4%, Validation Accuracy:  76.7%, Train Loss: 0.886 Validation Loss: 1.008\n",
      "Iteration: 80142\n",
      "Epoch 115 --- Training Accuracy:  78.1%, Validation Accuracy:  78.0%, Train Loss: 0.969 Validation Loss: 0.974\n",
      "Saved checkpoint.\n",
      "Iteration: 80845\n",
      "Epoch 116 --- Training Accuracy:  82.8%, Validation Accuracy:  76.1%, Train Loss: 0.952 Validation Loss: 1.018\n",
      "Iteration: 81548\n",
      "Epoch 117 --- Training Accuracy:  71.9%, Validation Accuracy:  77.4%, Train Loss: 1.111 Validation Loss: 0.982\n",
      "Iteration: 82251\n",
      "Epoch 118 --- Training Accuracy:  84.4%, Validation Accuracy:  76.4%, Train Loss: 0.838 Validation Loss: 1.012\n",
      "Iteration: 82954\n",
      "Epoch 119 --- Training Accuracy:  73.4%, Validation Accuracy:  76.2%, Train Loss: 1.095 Validation Loss: 1.002\n",
      "Iteration: 83657\n",
      "Epoch 120 --- Training Accuracy:  79.7%, Validation Accuracy:  77.7%, Train Loss: 1.009 Validation Loss: 0.991\n",
      "Iteration: 84360\n",
      "Epoch 121 --- Training Accuracy:  75.0%, Validation Accuracy:  77.3%, Train Loss: 1.060 Validation Loss: 0.989\n",
      "Iteration: 85063\n",
      "Epoch 122 --- Training Accuracy:  75.0%, Validation Accuracy:  76.6%, Train Loss: 1.080 Validation Loss: 0.998\n",
      "Iteration: 85766\n",
      "Epoch 123 --- Training Accuracy:  73.4%, Validation Accuracy:  77.2%, Train Loss: 1.094 Validation Loss: 0.991\n",
      "Iteration: 86469\n",
      "Epoch 124 --- Training Accuracy:  82.8%, Validation Accuracy:  77.6%, Train Loss: 0.855 Validation Loss: 0.979\n",
      "Iteration: 87172\n",
      "Epoch 125 --- Training Accuracy:  75.0%, Validation Accuracy:  76.5%, Train Loss: 1.028 Validation Loss: 1.024\n",
      "Iteration: 87875\n",
      "Epoch 126 --- Training Accuracy:  78.1%, Validation Accuracy:  76.7%, Train Loss: 0.897 Validation Loss: 0.998\n",
      "Iteration: 88578\n",
      "Epoch 127 --- Training Accuracy:  81.2%, Validation Accuracy:  76.2%, Train Loss: 0.862 Validation Loss: 1.013\n",
      "Iteration: 89281\n",
      "Epoch 128 --- Training Accuracy:  78.1%, Validation Accuracy:  72.5%, Train Loss: 0.914 Validation Loss: 1.106\n",
      "Iteration: 89984\n",
      "Epoch 129 --- Training Accuracy:  79.7%, Validation Accuracy:  78.3%, Train Loss: 0.939 Validation Loss: 0.972\n",
      "Saved checkpoint.\n",
      "Iteration: 90687\n",
      "Epoch 130 --- Training Accuracy:  84.4%, Validation Accuracy:  75.6%, Train Loss: 1.017 Validation Loss: 1.065\n",
      "Iteration: 91390\n",
      "Epoch 131 --- Training Accuracy:  81.2%, Validation Accuracy:  76.7%, Train Loss: 0.826 Validation Loss: 0.996\n",
      "Iteration: 92093\n",
      "Epoch 132 --- Training Accuracy:  81.2%, Validation Accuracy:  77.0%, Train Loss: 0.905 Validation Loss: 0.988\n",
      "Iteration: 92796\n",
      "Epoch 133 --- Training Accuracy:  73.4%, Validation Accuracy:  76.5%, Train Loss: 1.092 Validation Loss: 1.020\n",
      "Iteration: 93499\n",
      "Epoch 134 --- Training Accuracy:  82.8%, Validation Accuracy:  77.7%, Train Loss: 0.980 Validation Loss: 0.986\n",
      "Iteration: 94202\n",
      "Epoch 135 --- Training Accuracy:  87.5%, Validation Accuracy:  77.6%, Train Loss: 0.751 Validation Loss: 0.980\n",
      "Iteration: 94905\n",
      "Epoch 136 --- Training Accuracy:  68.8%, Validation Accuracy:  78.7%, Train Loss: 0.956 Validation Loss: 0.970\n",
      "Saved checkpoint.\n",
      "Iteration: 95608\n",
      "Epoch 137 --- Training Accuracy:  75.0%, Validation Accuracy:  77.9%, Train Loss: 0.960 Validation Loss: 0.985\n",
      "Iteration: 96311\n",
      "Epoch 138 --- Training Accuracy:  87.5%, Validation Accuracy:  77.9%, Train Loss: 0.858 Validation Loss: 0.973\n",
      "Iteration: 97014\n",
      "Epoch 139 --- Training Accuracy:  78.1%, Validation Accuracy:  78.4%, Train Loss: 0.905 Validation Loss: 0.969\n",
      "Iteration: 97717\n",
      "Epoch 140 --- Training Accuracy:  82.8%, Validation Accuracy:  75.9%, Train Loss: 0.945 Validation Loss: 1.034\n",
      "Iteration: 98420\n",
      "Epoch 141 --- Training Accuracy:  79.7%, Validation Accuracy:  77.2%, Train Loss: 0.956 Validation Loss: 0.987\n",
      "Iteration: 99123\n",
      "Epoch 142 --- Training Accuracy:  84.4%, Validation Accuracy:  79.0%, Train Loss: 0.809 Validation Loss: 0.951\n",
      "Saved checkpoint.\n",
      "Iteration: 99826\n",
      "Epoch 143 --- Training Accuracy:  73.4%, Validation Accuracy:  76.6%, Train Loss: 1.037 Validation Loss: 1.014\n",
      "Iteration: 100529\n",
      "Epoch 144 --- Training Accuracy:  79.7%, Validation Accuracy:  78.2%, Train Loss: 0.962 Validation Loss: 0.972\n",
      "Iteration: 101232\n",
      "Epoch 145 --- Training Accuracy:  81.2%, Validation Accuracy:  76.6%, Train Loss: 0.921 Validation Loss: 1.031\n",
      "Iteration: 101935\n",
      "Epoch 146 --- Training Accuracy:  75.0%, Validation Accuracy:  75.8%, Train Loss: 1.036 Validation Loss: 1.034\n",
      "Iteration: 102638\n",
      "Epoch 147 --- Training Accuracy:  81.2%, Validation Accuracy:  76.1%, Train Loss: 0.842 Validation Loss: 1.030\n",
      "Iteration: 103341\n",
      "Epoch 148 --- Training Accuracy:  84.4%, Validation Accuracy:  78.9%, Train Loss: 0.913 Validation Loss: 0.947\n",
      "Iteration: 104044\n",
      "Epoch 149 --- Training Accuracy:  82.8%, Validation Accuracy:  77.0%, Train Loss: 0.842 Validation Loss: 1.000\n",
      "Iteration: 104747\n",
      "Epoch 150 --- Training Accuracy:  75.0%, Validation Accuracy:  78.9%, Train Loss: 1.044 Validation Loss: 0.940\n",
      "Iteration: 105450\n",
      "Epoch 151 --- Training Accuracy:  79.7%, Validation Accuracy:  78.4%, Train Loss: 0.926 Validation Loss: 0.964\n",
      "Iteration: 106153\n",
      "Epoch 152 --- Training Accuracy:  92.2%, Validation Accuracy:  78.2%, Train Loss: 0.694 Validation Loss: 0.963\n",
      "Iteration: 106856\n",
      "Epoch 153 --- Training Accuracy:  73.4%, Validation Accuracy:  75.8%, Train Loss: 0.982 Validation Loss: 1.041\n",
      "Iteration: 107559\n",
      "Epoch 154 --- Training Accuracy:  73.4%, Validation Accuracy:  77.3%, Train Loss: 0.978 Validation Loss: 0.996\n",
      "Iteration: 108262\n",
      "Epoch 155 --- Training Accuracy:  81.2%, Validation Accuracy:  77.7%, Train Loss: 0.818 Validation Loss: 0.984\n",
      "Iteration: 108965\n",
      "Epoch 156 --- Training Accuracy:  87.5%, Validation Accuracy:  78.0%, Train Loss: 0.814 Validation Loss: 0.973\n",
      "Iteration: 109668\n",
      "Epoch 157 --- Training Accuracy:  76.6%, Validation Accuracy:  72.7%, Train Loss: 1.003 Validation Loss: 1.126\n",
      "Iteration: 110371\n",
      "Epoch 158 --- Training Accuracy:  78.1%, Validation Accuracy:  79.4%, Train Loss: 0.978 Validation Loss: 0.947\n",
      "Saved checkpoint.\n",
      "Iteration: 111074\n",
      "Epoch 159 --- Training Accuracy:  85.9%, Validation Accuracy:  77.6%, Train Loss: 0.814 Validation Loss: 0.973\n",
      "Iteration: 111777\n",
      "Epoch 160 --- Training Accuracy:  85.9%, Validation Accuracy:  77.5%, Train Loss: 0.844 Validation Loss: 0.983\n",
      "Iteration: 112480\n",
      "Epoch 161 --- Training Accuracy:  78.1%, Validation Accuracy:  76.7%, Train Loss: 1.063 Validation Loss: 0.999\n",
      "Iteration: 113183\n",
      "Epoch 162 --- Training Accuracy:  76.6%, Validation Accuracy:  78.3%, Train Loss: 0.965 Validation Loss: 0.966\n",
      "Iteration: 113886\n",
      "Epoch 163 --- Training Accuracy:  85.9%, Validation Accuracy:  76.9%, Train Loss: 0.862 Validation Loss: 1.004\n",
      "Iteration: 114589\n",
      "Epoch 164 --- Training Accuracy:  79.7%, Validation Accuracy:  79.3%, Train Loss: 0.934 Validation Loss: 0.946\n",
      "Iteration: 115292\n",
      "Epoch 165 --- Training Accuracy:  82.8%, Validation Accuracy:  77.4%, Train Loss: 0.856 Validation Loss: 0.987\n",
      "Iteration: 115995\n",
      "Epoch 166 --- Training Accuracy:  73.4%, Validation Accuracy:  78.0%, Train Loss: 1.011 Validation Loss: 0.978\n",
      "Iteration: 116698\n",
      "Epoch 167 --- Training Accuracy:  64.1%, Validation Accuracy:  78.5%, Train Loss: 1.288 Validation Loss: 0.980\n",
      "Iteration: 117401\n",
      "Epoch 168 --- Training Accuracy:  73.4%, Validation Accuracy:  78.3%, Train Loss: 1.034 Validation Loss: 0.973\n",
      "Iteration: 118104\n",
      "Epoch 169 --- Training Accuracy:  84.4%, Validation Accuracy:  76.2%, Train Loss: 0.904 Validation Loss: 1.031\n",
      "Iteration: 118807\n",
      "Epoch 170 --- Training Accuracy:  81.2%, Validation Accuracy:  78.0%, Train Loss: 0.881 Validation Loss: 0.974\n",
      "Iteration: 119510\n",
      "Epoch 171 --- Training Accuracy:  76.6%, Validation Accuracy:  77.7%, Train Loss: 0.976 Validation Loss: 0.994\n",
      "Iteration: 120213\n",
      "Epoch 172 --- Training Accuracy:  75.0%, Validation Accuracy:  72.6%, Train Loss: 1.003 Validation Loss: 1.117\n",
      "Iteration: 120916\n",
      "Epoch 173 --- Training Accuracy:  82.8%, Validation Accuracy:  77.2%, Train Loss: 0.938 Validation Loss: 0.994\n",
      "Iteration: 121619\n",
      "Epoch 174 --- Training Accuracy:  84.4%, Validation Accuracy:  77.4%, Train Loss: 0.827 Validation Loss: 0.993\n",
      "Iteration: 122322\n",
      "Epoch 175 --- Training Accuracy:  76.6%, Validation Accuracy:  78.2%, Train Loss: 0.946 Validation Loss: 0.965\n",
      "Iteration: 123025\n",
      "Epoch 176 --- Training Accuracy:  79.7%, Validation Accuracy:  76.0%, Train Loss: 0.867 Validation Loss: 1.021\n",
      "Iteration: 123728\n",
      "Epoch 177 --- Training Accuracy:  68.8%, Validation Accuracy:  76.9%, Train Loss: 1.140 Validation Loss: 1.008\n",
      "Iteration: 124431\n",
      "Epoch 178 --- Training Accuracy:  79.7%, Validation Accuracy:  78.9%, Train Loss: 0.983 Validation Loss: 0.943\n",
      "Iteration: 125134\n",
      "Epoch 179 --- Training Accuracy:  82.8%, Validation Accuracy:  78.7%, Train Loss: 0.796 Validation Loss: 0.962\n",
      "Iteration: 125837\n",
      "Epoch 180 --- Training Accuracy:  85.9%, Validation Accuracy:  75.2%, Train Loss: 0.884 Validation Loss: 1.048\n",
      "Iteration: 126540\n",
      "Epoch 181 --- Training Accuracy:  82.8%, Validation Accuracy:  78.0%, Train Loss: 0.880 Validation Loss: 0.975\n",
      "Iteration: 127243\n",
      "Epoch 182 --- Training Accuracy:  81.2%, Validation Accuracy:  79.1%, Train Loss: 1.016 Validation Loss: 0.937\n",
      "Iteration: 127946\n",
      "Epoch 183 --- Training Accuracy:  85.9%, Validation Accuracy:  78.8%, Train Loss: 0.807 Validation Loss: 0.944\n",
      "Iteration: 128649\n",
      "Epoch 184 --- Training Accuracy:  85.9%, Validation Accuracy:  78.3%, Train Loss: 0.738 Validation Loss: 0.958\n",
      "Iteration: 129352\n",
      "Epoch 185 --- Training Accuracy:  85.9%, Validation Accuracy:  79.6%, Train Loss: 0.816 Validation Loss: 0.935\n",
      "Saved checkpoint.\n",
      "Iteration: 130055\n",
      "Epoch 186 --- Training Accuracy:  87.5%, Validation Accuracy:  78.7%, Train Loss: 0.734 Validation Loss: 0.948\n",
      "Iteration: 130758\n",
      "Epoch 187 --- Training Accuracy:  78.1%, Validation Accuracy:  78.5%, Train Loss: 0.868 Validation Loss: 0.957\n",
      "Iteration: 131461\n",
      "Epoch 188 --- Training Accuracy:  76.6%, Validation Accuracy:  77.9%, Train Loss: 1.039 Validation Loss: 0.980\n",
      "Iteration: 132164\n",
      "Epoch 189 --- Training Accuracy:  78.1%, Validation Accuracy:  78.8%, Train Loss: 1.153 Validation Loss: 0.945\n",
      "Iteration: 132867\n",
      "Epoch 190 --- Training Accuracy:  87.5%, Validation Accuracy:  77.9%, Train Loss: 0.796 Validation Loss: 0.984\n",
      "Iteration: 133570\n",
      "Epoch 191 --- Training Accuracy:  73.4%, Validation Accuracy:  78.7%, Train Loss: 0.961 Validation Loss: 0.970\n",
      "Iteration: 134273\n",
      "Epoch 192 --- Training Accuracy:  79.7%, Validation Accuracy:  78.4%, Train Loss: 0.923 Validation Loss: 0.966\n",
      "Iteration: 134976\n",
      "Epoch 193 --- Training Accuracy:  76.6%, Validation Accuracy:  77.8%, Train Loss: 1.027 Validation Loss: 0.981\n",
      "Iteration: 135679\n",
      "Epoch 194 --- Training Accuracy:  81.2%, Validation Accuracy:  78.7%, Train Loss: 0.886 Validation Loss: 0.943\n",
      "Iteration: 136382\n",
      "Epoch 195 --- Training Accuracy:  82.8%, Validation Accuracy:  78.4%, Train Loss: 0.902 Validation Loss: 0.975\n",
      "Iteration: 137085\n",
      "Epoch 196 --- Training Accuracy:  89.1%, Validation Accuracy:  77.3%, Train Loss: 0.786 Validation Loss: 1.007\n",
      "Iteration: 137788\n",
      "Epoch 197 --- Training Accuracy:  87.5%, Validation Accuracy:  78.7%, Train Loss: 0.774 Validation Loss: 0.963\n",
      "Iteration: 138491\n",
      "Epoch 198 --- Training Accuracy:  81.2%, Validation Accuracy:  78.3%, Train Loss: 0.913 Validation Loss: 0.977\n",
      "Iteration: 139194\n",
      "Epoch 199 --- Training Accuracy:  87.5%, Validation Accuracy:  78.8%, Train Loss: 0.696 Validation Loss: 0.956\n",
      "Iteration: 139897\n",
      "Epoch 200 --- Training Accuracy:  84.4%, Validation Accuracy:  78.5%, Train Loss: 0.876 Validation Loss: 0.988\n",
      "Iteration: 140600\n",
      "Epoch 201 --- Training Accuracy:  78.1%, Validation Accuracy:  78.2%, Train Loss: 0.862 Validation Loss: 0.980\n",
      "Iteration: 141303\n",
      "Epoch 202 --- Training Accuracy:  84.4%, Validation Accuracy:  78.5%, Train Loss: 0.748 Validation Loss: 0.974\n",
      "Iteration: 142006\n",
      "Epoch 203 --- Training Accuracy:  82.8%, Validation Accuracy:  79.6%, Train Loss: 0.901 Validation Loss: 0.929\n",
      "Iteration: 142709\n",
      "Epoch 204 --- Training Accuracy:  81.2%, Validation Accuracy:  78.5%, Train Loss: 0.914 Validation Loss: 0.971\n",
      "Iteration: 143412\n",
      "Epoch 205 --- Training Accuracy:  85.9%, Validation Accuracy:  73.5%, Train Loss: 0.786 Validation Loss: 1.144\n",
      "Iteration: 144115\n",
      "Epoch 206 --- Training Accuracy:  87.5%, Validation Accuracy:  78.1%, Train Loss: 0.761 Validation Loss: 0.973\n",
      "Iteration: 144818\n",
      "Epoch 207 --- Training Accuracy:  73.4%, Validation Accuracy:  78.9%, Train Loss: 0.971 Validation Loss: 0.945\n",
      "Iteration: 145521\n",
      "Epoch 208 --- Training Accuracy:  84.4%, Validation Accuracy:  78.7%, Train Loss: 0.834 Validation Loss: 0.964\n",
      "Iteration: 146224\n",
      "Epoch 209 --- Training Accuracy:  79.7%, Validation Accuracy:  78.0%, Train Loss: 0.910 Validation Loss: 0.965\n",
      "Iteration: 146927\n",
      "Epoch 210 --- Training Accuracy:  78.1%, Validation Accuracy:  78.4%, Train Loss: 0.922 Validation Loss: 0.968\n",
      "Iteration: 147630\n",
      "Epoch 211 --- Training Accuracy:  79.7%, Validation Accuracy:  78.9%, Train Loss: 0.922 Validation Loss: 0.974\n",
      "Iteration: 148333\n",
      "Epoch 212 --- Training Accuracy:  82.8%, Validation Accuracy:  79.0%, Train Loss: 0.830 Validation Loss: 0.947\n",
      "Iteration: 149036\n",
      "Epoch 213 --- Training Accuracy:  78.1%, Validation Accuracy:  75.9%, Train Loss: 0.924 Validation Loss: 1.059\n",
      "Iteration: 149739\n",
      "Epoch 214 --- Training Accuracy:  78.1%, Validation Accuracy:  79.1%, Train Loss: 0.881 Validation Loss: 0.943\n",
      "Iteration: 150442\n",
      "Epoch 215 --- Training Accuracy:  81.2%, Validation Accuracy:  78.7%, Train Loss: 0.898 Validation Loss: 0.972\n",
      "Iteration: 151145\n",
      "Epoch 216 --- Training Accuracy:  85.9%, Validation Accuracy:  78.6%, Train Loss: 0.864 Validation Loss: 0.954\n",
      "Iteration: 151848\n",
      "Epoch 217 --- Training Accuracy:  85.9%, Validation Accuracy:  78.4%, Train Loss: 0.856 Validation Loss: 0.974\n",
      "Iteration: 152551\n",
      "Epoch 218 --- Training Accuracy:  81.2%, Validation Accuracy:  79.3%, Train Loss: 0.847 Validation Loss: 0.940\n",
      "Iteration: 153254\n",
      "Epoch 219 --- Training Accuracy:  85.9%, Validation Accuracy:  78.9%, Train Loss: 0.815 Validation Loss: 0.943\n",
      "Iteration: 153957\n",
      "Epoch 220 --- Training Accuracy:  76.6%, Validation Accuracy:  78.2%, Train Loss: 0.897 Validation Loss: 0.963\n",
      "Iteration: 154660\n",
      "Epoch 221 --- Training Accuracy:  73.4%, Validation Accuracy:  75.9%, Train Loss: 1.042 Validation Loss: 1.049\n",
      "Iteration: 155363\n",
      "Epoch 222 --- Training Accuracy:  82.8%, Validation Accuracy:  79.1%, Train Loss: 0.953 Validation Loss: 0.940\n",
      "Iteration: 156066\n",
      "Epoch 223 --- Training Accuracy:  85.9%, Validation Accuracy:  76.2%, Train Loss: 0.809 Validation Loss: 1.040\n",
      "Iteration: 156769\n",
      "Epoch 224 --- Training Accuracy:  78.1%, Validation Accuracy:  78.0%, Train Loss: 0.997 Validation Loss: 0.957\n",
      "Iteration: 157472\n",
      "Epoch 225 --- Training Accuracy:  78.1%, Validation Accuracy:  76.3%, Train Loss: 1.091 Validation Loss: 1.040\n",
      "Iteration: 158175\n",
      "Epoch 226 --- Training Accuracy:  82.8%, Validation Accuracy:  79.3%, Train Loss: 0.876 Validation Loss: 0.947\n",
      "Iteration: 158878\n",
      "Epoch 227 --- Training Accuracy:  82.8%, Validation Accuracy:  78.9%, Train Loss: 0.908 Validation Loss: 0.943\n",
      "Iteration: 159581\n",
      "Epoch 228 --- Training Accuracy:  87.5%, Validation Accuracy:  79.1%, Train Loss: 0.784 Validation Loss: 0.945\n",
      "Iteration: 160284\n",
      "Epoch 229 --- Training Accuracy:  71.9%, Validation Accuracy:  78.6%, Train Loss: 1.069 Validation Loss: 0.972\n",
      "Iteration: 160987\n",
      "Epoch 230 --- Training Accuracy:  75.0%, Validation Accuracy:  79.1%, Train Loss: 0.907 Validation Loss: 0.941\n",
      "Iteration: 161690\n",
      "Epoch 231 --- Training Accuracy:  82.8%, Validation Accuracy:  80.0%, Train Loss: 0.822 Validation Loss: 0.927\n",
      "Saved checkpoint.\n",
      "Iteration: 162393\n",
      "Epoch 232 --- Training Accuracy:  85.9%, Validation Accuracy:  79.3%, Train Loss: 0.790 Validation Loss: 0.940\n",
      "Iteration: 163096\n",
      "Epoch 233 --- Training Accuracy:  92.2%, Validation Accuracy:  78.4%, Train Loss: 0.737 Validation Loss: 0.968\n",
      "Iteration: 163799\n",
      "Epoch 234 --- Training Accuracy:  84.4%, Validation Accuracy:  78.4%, Train Loss: 0.945 Validation Loss: 0.965\n",
      "Iteration: 164502\n",
      "Epoch 235 --- Training Accuracy:  84.4%, Validation Accuracy:  79.7%, Train Loss: 0.806 Validation Loss: 0.921\n",
      "Iteration: 165205\n",
      "Epoch 236 --- Training Accuracy:  81.2%, Validation Accuracy:  78.9%, Train Loss: 0.955 Validation Loss: 0.959\n",
      "Iteration: 165908\n",
      "Epoch 237 --- Training Accuracy:  73.4%, Validation Accuracy:  73.5%, Train Loss: 0.991 Validation Loss: 1.124\n",
      "Iteration: 166611\n",
      "Epoch 238 --- Training Accuracy:  70.3%, Validation Accuracy:  79.1%, Train Loss: 1.124 Validation Loss: 0.939\n",
      "Iteration: 167314\n",
      "Epoch 239 --- Training Accuracy:  92.2%, Validation Accuracy:  79.4%, Train Loss: 0.743 Validation Loss: 0.952\n",
      "Iteration: 168017\n",
      "Epoch 240 --- Training Accuracy:  76.6%, Validation Accuracy:  77.9%, Train Loss: 0.989 Validation Loss: 0.974\n",
      "Iteration: 168720\n",
      "Epoch 241 --- Training Accuracy:  78.1%, Validation Accuracy:  78.6%, Train Loss: 0.982 Validation Loss: 0.944\n",
      "Iteration: 169423\n",
      "Epoch 242 --- Training Accuracy:  85.9%, Validation Accuracy:  78.2%, Train Loss: 0.802 Validation Loss: 0.995\n",
      "Iteration: 170126\n",
      "Epoch 243 --- Training Accuracy:  89.1%, Validation Accuracy:  78.9%, Train Loss: 0.713 Validation Loss: 0.949\n",
      "Iteration: 170829\n",
      "Epoch 244 --- Training Accuracy:  81.2%, Validation Accuracy:  79.2%, Train Loss: 0.887 Validation Loss: 0.946\n",
      "Iteration: 171532\n",
      "Epoch 245 --- Training Accuracy:  75.0%, Validation Accuracy:  78.7%, Train Loss: 0.998 Validation Loss: 0.961\n",
      "Iteration: 172235\n",
      "Epoch 246 --- Training Accuracy:  73.4%, Validation Accuracy:  78.1%, Train Loss: 1.026 Validation Loss: 0.980\n",
      "Iteration: 172938\n",
      "Epoch 247 --- Training Accuracy:  75.0%, Validation Accuracy:  79.1%, Train Loss: 1.004 Validation Loss: 0.958\n",
      "Iteration: 173641\n",
      "Epoch 248 --- Training Accuracy:  78.1%, Validation Accuracy:  77.9%, Train Loss: 0.905 Validation Loss: 0.996\n",
      "Iteration: 174344\n",
      "Epoch 249 --- Training Accuracy:  81.2%, Validation Accuracy:  79.4%, Train Loss: 0.916 Validation Loss: 0.935\n",
      "Iteration: 175047\n",
      "Epoch 250 --- Training Accuracy:  87.5%, Validation Accuracy:  80.0%, Train Loss: 0.812 Validation Loss: 0.904\n",
      "Iteration: 175750\n",
      "Epoch 251 --- Training Accuracy:  73.4%, Validation Accuracy:  78.6%, Train Loss: 1.129 Validation Loss: 0.946\n",
      "Iteration: 176453\n",
      "Epoch 252 --- Training Accuracy:  76.6%, Validation Accuracy:  80.2%, Train Loss: 0.970 Validation Loss: 0.923\n",
      "Saved checkpoint.\n",
      "Iteration: 177156\n",
      "Epoch 253 --- Training Accuracy:  81.2%, Validation Accuracy:  79.3%, Train Loss: 0.827 Validation Loss: 0.944\n",
      "Iteration: 177859\n",
      "Epoch 254 --- Training Accuracy:  87.5%, Validation Accuracy:  77.8%, Train Loss: 0.822 Validation Loss: 0.976\n",
      "Iteration: 178562\n",
      "Epoch 255 --- Training Accuracy:  84.4%, Validation Accuracy:  80.2%, Train Loss: 0.840 Validation Loss: 0.923\n",
      "Iteration: 179265\n",
      "Epoch 256 --- Training Accuracy:  76.6%, Validation Accuracy:  79.5%, Train Loss: 1.059 Validation Loss: 0.936\n",
      "Iteration: 179968\n",
      "Epoch 257 --- Training Accuracy:  89.1%, Validation Accuracy:  79.9%, Train Loss: 0.690 Validation Loss: 0.927\n",
      "Iteration: 180671\n",
      "Epoch 258 --- Training Accuracy:  79.7%, Validation Accuracy:  79.5%, Train Loss: 0.907 Validation Loss: 0.939\n",
      "Iteration: 181374\n",
      "Epoch 259 --- Training Accuracy:  84.4%, Validation Accuracy:  80.6%, Train Loss: 0.972 Validation Loss: 0.906\n",
      "Saved checkpoint.\n",
      "Iteration: 182077\n",
      "Epoch 260 --- Training Accuracy:  79.7%, Validation Accuracy:  78.7%, Train Loss: 0.945 Validation Loss: 0.951\n",
      "Iteration: 182780\n",
      "Epoch 261 --- Training Accuracy:  87.5%, Validation Accuracy:  77.4%, Train Loss: 0.835 Validation Loss: 1.001\n",
      "Iteration: 183483\n",
      "Epoch 262 --- Training Accuracy:  85.9%, Validation Accuracy:  80.5%, Train Loss: 0.777 Validation Loss: 0.911\n",
      "Iteration: 184186\n",
      "Epoch 263 --- Training Accuracy:  90.6%, Validation Accuracy:  80.6%, Train Loss: 0.759 Validation Loss: 0.915\n",
      "Iteration: 184889\n",
      "Epoch 264 --- Training Accuracy:  75.0%, Validation Accuracy:  79.5%, Train Loss: 0.982 Validation Loss: 0.932\n",
      "Iteration: 185592\n",
      "Epoch 265 --- Training Accuracy:  79.7%, Validation Accuracy:  79.0%, Train Loss: 0.891 Validation Loss: 0.944\n",
      "Iteration: 186295\n",
      "Epoch 266 --- Training Accuracy:  82.8%, Validation Accuracy:  77.3%, Train Loss: 0.810 Validation Loss: 1.019\n",
      "Iteration: 186998\n",
      "Epoch 267 --- Training Accuracy:  85.9%, Validation Accuracy:  77.8%, Train Loss: 0.828 Validation Loss: 0.999\n",
      "Iteration: 187701\n",
      "Epoch 268 --- Training Accuracy:  81.2%, Validation Accuracy:  79.4%, Train Loss: 0.902 Validation Loss: 0.950\n",
      "Iteration: 188404\n",
      "Epoch 269 --- Training Accuracy:  82.8%, Validation Accuracy:  79.3%, Train Loss: 0.868 Validation Loss: 0.931\n",
      "Iteration: 189107\n",
      "Epoch 270 --- Training Accuracy:  82.8%, Validation Accuracy:  80.4%, Train Loss: 0.852 Validation Loss: 0.916\n",
      "Iteration: 189810\n",
      "Epoch 271 --- Training Accuracy:  81.2%, Validation Accuracy:  80.1%, Train Loss: 0.893 Validation Loss: 0.913\n",
      "Iteration: 190513\n",
      "Epoch 272 --- Training Accuracy:  79.7%, Validation Accuracy:  79.2%, Train Loss: 0.902 Validation Loss: 0.941\n",
      "Iteration: 191216\n",
      "Epoch 273 --- Training Accuracy:  85.9%, Validation Accuracy:  80.1%, Train Loss: 0.753 Validation Loss: 0.909\n",
      "Iteration: 191919\n",
      "Epoch 274 --- Training Accuracy:  85.9%, Validation Accuracy:  79.2%, Train Loss: 0.913 Validation Loss: 0.948\n",
      "Iteration: 192622\n",
      "Epoch 275 --- Training Accuracy:  81.2%, Validation Accuracy:  78.6%, Train Loss: 0.923 Validation Loss: 0.959\n",
      "Iteration: 193325\n",
      "Epoch 276 --- Training Accuracy:  78.1%, Validation Accuracy:  79.5%, Train Loss: 0.860 Validation Loss: 0.943\n",
      "Iteration: 194028\n",
      "Epoch 277 --- Training Accuracy:  79.7%, Validation Accuracy:  78.6%, Train Loss: 0.806 Validation Loss: 0.949\n",
      "Iteration: 194731\n",
      "Epoch 278 --- Training Accuracy:  82.8%, Validation Accuracy:  79.0%, Train Loss: 0.784 Validation Loss: 0.965\n",
      "Iteration: 195434\n",
      "Epoch 279 --- Training Accuracy:  79.7%, Validation Accuracy:  78.4%, Train Loss: 0.942 Validation Loss: 0.971\n",
      "Iteration: 196137\n",
      "Epoch 280 --- Training Accuracy:  82.8%, Validation Accuracy:  79.9%, Train Loss: 0.916 Validation Loss: 0.920\n",
      "Iteration: 196840\n",
      "Epoch 281 --- Training Accuracy:  82.8%, Validation Accuracy:  79.7%, Train Loss: 0.842 Validation Loss: 0.935\n",
      "Iteration: 197543\n",
      "Epoch 282 --- Training Accuracy:  84.4%, Validation Accuracy:  78.9%, Train Loss: 0.760 Validation Loss: 0.957\n",
      "Iteration: 198246\n",
      "Epoch 283 --- Training Accuracy:  89.1%, Validation Accuracy:  80.1%, Train Loss: 0.760 Validation Loss: 0.921\n",
      "Iteration: 198949\n",
      "Epoch 284 --- Training Accuracy:  81.2%, Validation Accuracy:  80.0%, Train Loss: 0.886 Validation Loss: 0.926\n",
      "Iteration: 199652\n",
      "Epoch 285 --- Training Accuracy:  79.7%, Validation Accuracy:  79.7%, Train Loss: 0.944 Validation Loss: 0.922\n"
     ]
    }
   ],
   "source": [
    "# Run the optimizer    \n",
    "optimize(num_iterations=200000)\n",
    "\n"
   ]
  },
  {
   "cell_type": "markdown",
   "metadata": {},
   "source": [
    "### Loading files for test data"
   ]
  },
  {
   "cell_type": "code",
   "execution_count": 37,
   "metadata": {
    "collapsed": false
   },
   "outputs": [
    {
     "name": "stdout",
     "output_type": "stream",
     "text": [
      "b'testing batch 1 of 1'\n"
     ]
    }
   ],
   "source": [
    "def unpickle(file):\n",
    "    import pickle\n",
    "    with open(file, 'rb') as fo:\n",
    "        data_dict = pickle.load(fo, encoding='bytes')\n",
    "    return data_dict\n",
    "\n",
    "path = 'cifar-10-batches-py'\n",
    "file = []\n",
    "\n",
    "file.append('test_batch')\n",
    "\n",
    "X_test_orig = None\n",
    "Y_test_orig = None\n",
    "\n",
    "for i in range(1):\n",
    "    fname = path+'/'+file[i]\n",
    "    data_dict = unpickle(fname)\n",
    "    \n",
    "    _X = np.array(data_dict[b'data'], dtype=float) / 255.0\n",
    "    _X = _X.reshape([-1, 3, 32, 32])\n",
    "    _X = _X.transpose([0, 2, 3, 1])\n",
    "    _X = _X.reshape(-1, 32*32*3)\n",
    "    _Y = data_dict[b'labels']\n",
    "\n",
    "    X_test_format = _X\n",
    "    Y_test_format = np.array(_Y)\n",
    "    print(data_dict[b'batch_label'])\n",
    "        "
   ]
  },
  {
   "cell_type": "markdown",
   "metadata": {},
   "source": [
    "### Getting test accuracy and saving the npy results file"
   ]
  },
  {
   "cell_type": "code",
   "execution_count": 38,
   "metadata": {
    "collapsed": false
   },
   "outputs": [
    {
     "name": "stdout",
     "output_type": "stream",
     "text": [
      "Trying to restore last checkpoint ...\n",
      "INFO:tensorflow:Restoring parameters from checkpoints/cifar10_cnn-181374\n",
      "Restored checkpoint from: checkpoints/cifar10_cnn-181374\n",
      "Accuracy on test set is:  0.815\n"
     ]
    }
   ],
   "source": [
    "# Restore the session that we saved above for maximum validation accuracy\n",
    "\n",
    "session1 = tf.Session()\n",
    "try:\n",
    "    print(\"Trying to restore last checkpoint ...\")\n",
    "\n",
    "    # Use TensorFlow to find the latest checkpoint - if any.\n",
    "    last_chk_path = tf.train.latest_checkpoint(checkpoint_dir=save_dir)\n",
    "\n",
    "    # Try and load the data in the checkpoint.\n",
    "    saver.restore(session1, save_path=last_chk_path)\n",
    "\n",
    "    # If we get to this point, the checkpoint was successfully loaded.\n",
    "    print(\"Restored checkpoint from:\", last_chk_path)\n",
    "except:\n",
    "    print(\"Failed to restore checkpoint. Initializing variables instead.\")\n",
    "    \n",
    "Y_test_hot = one_hot(Y_test_format)\n",
    "Y_test_hot = Y_test_hot.T\n",
    "feed_dict_test= {x: X_test_format,y_true: Y_test_hot, phase: 0, keep_prob:1.0}\n",
    "acc,pred_y = session1.run([accuracy,y_pred], feed_dict=feed_dict_test)\n",
    "print(\"Accuracy on test set is: \",acc)\n",
    "\n"
   ]
  },
  {
   "cell_type": "code",
   "execution_count": 39,
   "metadata": {
    "collapsed": true
   },
   "outputs": [],
   "source": [
    "feed_dict_test= {x: X_test,y_true: Y_test_hot, phase: 0, keep_prob:1.0}\n",
    "acc,pred_y = session1.run([accuracy,y_pred], feed_dict=feed_dict_test)\n",
    "save_predictions(\"ans2-ck2840.npy\",pred_y)"
   ]
  },
  {
   "cell_type": "code",
   "execution_count": 40,
   "metadata": {
    "collapsed": false
   },
   "outputs": [
    {
     "data": {
      "text/plain": [
       "(10000, 10)"
      ]
     },
     "execution_count": 40,
     "metadata": {},
     "output_type": "execute_result"
    }
   ],
   "source": [
    "pred_y.shape"
   ]
  },
  {
   "cell_type": "code",
   "execution_count": null,
   "metadata": {
    "collapsed": true
   },
   "outputs": [],
   "source": []
  }
 ],
 "metadata": {
  "kernelspec": {
   "display_name": "Python 3",
   "language": "python",
   "name": "python3"
  },
  "language_info": {
   "codemirror_mode": {
    "name": "ipython",
    "version": 3
   },
   "file_extension": ".py",
   "mimetype": "text/x-python",
   "name": "python",
   "nbconvert_exporter": "python",
   "pygments_lexer": "ipython3",
   "version": "3.5.2"
  }
 },
 "nbformat": 4,
 "nbformat_minor": 2
}
